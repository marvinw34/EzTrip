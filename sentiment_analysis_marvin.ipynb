{
  "cells": [
    {
      "cell_type": "markdown",
      "metadata": {
        "id": "K8DIbYK0pI9m"
      },
      "source": [
        "# Import library yang digunakan"
      ]
    },
    {
      "cell_type": "code",
      "execution_count": null,
      "metadata": {
        "colab": {
          "base_uri": "https://localhost:8080/"
        },
        "id": "Pm0sUrkr-Qoe",
        "outputId": "a44b4d96-d714-4a52-fe85-b1a748f151bd"
      },
      "outputs": [
        {
          "output_type": "stream",
          "name": "stdout",
          "text": [
            "Requirement already satisfied: googletrans==4.0.0rc1 in /usr/local/lib/python3.10/dist-packages (4.0.0rc1)\n",
            "Requirement already satisfied: httpx==0.13.3 in /usr/local/lib/python3.10/dist-packages (from googletrans==4.0.0rc1) (0.13.3)\n",
            "Requirement already satisfied: certifi in /usr/local/lib/python3.10/dist-packages (from httpx==0.13.3->googletrans==4.0.0rc1) (2024.8.30)\n",
            "Requirement already satisfied: hstspreload in /usr/local/lib/python3.10/dist-packages (from httpx==0.13.3->googletrans==4.0.0rc1) (2024.11.1)\n",
            "Requirement already satisfied: sniffio in /usr/local/lib/python3.10/dist-packages (from httpx==0.13.3->googletrans==4.0.0rc1) (1.3.1)\n",
            "Requirement already satisfied: chardet==3.* in /usr/local/lib/python3.10/dist-packages (from httpx==0.13.3->googletrans==4.0.0rc1) (3.0.4)\n",
            "Requirement already satisfied: idna==2.* in /usr/local/lib/python3.10/dist-packages (from httpx==0.13.3->googletrans==4.0.0rc1) (2.10)\n",
            "Requirement already satisfied: rfc3986<2,>=1.3 in /usr/local/lib/python3.10/dist-packages (from httpx==0.13.3->googletrans==4.0.0rc1) (1.5.0)\n",
            "Requirement already satisfied: httpcore==0.9.* in /usr/local/lib/python3.10/dist-packages (from httpx==0.13.3->googletrans==4.0.0rc1) (0.9.1)\n",
            "Requirement already satisfied: h11<0.10,>=0.8 in /usr/local/lib/python3.10/dist-packages (from httpcore==0.9.*->httpx==0.13.3->googletrans==4.0.0rc1) (0.9.0)\n",
            "Requirement already satisfied: h2==3.* in /usr/local/lib/python3.10/dist-packages (from httpcore==0.9.*->httpx==0.13.3->googletrans==4.0.0rc1) (3.2.0)\n",
            "Requirement already satisfied: hyperframe<6,>=5.2.0 in /usr/local/lib/python3.10/dist-packages (from h2==3.*->httpcore==0.9.*->httpx==0.13.3->googletrans==4.0.0rc1) (5.2.0)\n",
            "Requirement already satisfied: hpack<4,>=3.0 in /usr/local/lib/python3.10/dist-packages (from h2==3.*->httpcore==0.9.*->httpx==0.13.3->googletrans==4.0.0rc1) (3.0.0)\n",
            "Requirement already satisfied: textblob in /usr/local/lib/python3.10/dist-packages (0.17.1)\n",
            "Requirement already satisfied: nltk>=3.1 in /usr/local/lib/python3.10/dist-packages (from textblob) (3.9.1)\n",
            "Requirement already satisfied: click in /usr/local/lib/python3.10/dist-packages (from nltk>=3.1->textblob) (8.1.7)\n",
            "Requirement already satisfied: joblib in /usr/local/lib/python3.10/dist-packages (from nltk>=3.1->textblob) (1.4.2)\n",
            "Requirement already satisfied: regex>=2021.8.3 in /usr/local/lib/python3.10/dist-packages (from nltk>=3.1->textblob) (2024.9.11)\n",
            "Requirement already satisfied: tqdm in /usr/local/lib/python3.10/dist-packages (from nltk>=3.1->textblob) (4.66.6)\n"
          ]
        }
      ],
      "source": [
        "!pip install googletrans==4.0.0rc1\n",
        "!pip install textblob"
      ]
    },
    {
      "cell_type": "code",
      "execution_count": null,
      "metadata": {
        "id": "lg27Arj0qfE9"
      },
      "outputs": [],
      "source": [
        "from collections import defaultdict\n",
        "from textblob import TextBlob\n",
        "from googletrans import Translator\n",
        "import json"
      ]
    },
    {
      "cell_type": "markdown",
      "metadata": {
        "id": "AboR8N8FpWdu"
      },
      "source": [
        "# Sentiment Analysis"
      ]
    },
    {
      "cell_type": "markdown",
      "source": [
        "## Persiapan model"
      ],
      "metadata": {
        "id": "6Xph40V8BsUv"
      }
    },
    {
      "cell_type": "code",
      "source": [
        "# Inisialisasi translator untuk review dengan bahasa selain Inggris\n",
        "translator = Translator()\n",
        "\n",
        "# file JSON untuk menyimpan data review agar tetap tersimpan walau keluar dari menu\n",
        "DATA_FILE = \"reviews_data.json\"\n",
        "\n",
        "# Data untuk menyimpan review berdasarkan tempat\n",
        "places_reviews = {}\n",
        "# Data untuk menyimpan jumlah review per sentimen untuk setiap tempat\n",
        "sentiment_summary = defaultdict(lambda: {\"Positive\": 0, \"Netral\": 0, \"Negative\": 0})"
      ],
      "metadata": {
        "id": "Ac5FPujHB3Tb"
      },
      "execution_count": null,
      "outputs": []
    },
    {
      "cell_type": "markdown",
      "source": [
        "## Fungsi sentiment analysis menggunakan Lexical NLP dengan textblob"
      ],
      "metadata": {
        "id": "o5ToMbSdCGnW"
      }
    },
    {
      "cell_type": "code",
      "source": [
        "#Membuat fungsi analisis sentiment\n",
        "def analyze_sentiment(review):\n",
        "    \"\"\"\n",
        "    Fungsi untuk menganalisis sentimen menggunakan TextBlob (Lexical NLP).\n",
        "    Input: Teks review yang akan dianalisis.\n",
        "    Output: Jenis review tersebut 'Positive', 'Netral', atau 'Negative'.\n",
        "    \"\"\"\n",
        "    analysis = TextBlob(review)\n",
        "    polarity = analysis.sentiment.polarity\n",
        "    #Menentukan sentiment berdasarkan nilai polaritas\n",
        "    if polarity > 0.1:\n",
        "        sentiment = 'Positive'\n",
        "    elif polarity < -0.1:\n",
        "        sentiment = 'Negative'\n",
        "    else:\n",
        "        sentiment = 'Netral'\n",
        "\n",
        "    return sentiment"
      ],
      "metadata": {
        "id": "-J2Ux41QCOYF"
      },
      "execution_count": null,
      "outputs": []
    },
    {
      "cell_type": "markdown",
      "source": [
        "## Fungsi untuk menerjemahkan review dengan bahasa selain Inggris"
      ],
      "metadata": {
        "id": "nmnRYyXRCaIp"
      }
    },
    {
      "cell_type": "code",
      "source": [
        "#Membuat fungsi yang menerjermahkan review\n",
        "def translate_review(review, src_lang='auto'):\n",
        "    \"\"\"\n",
        "    Fungsi untuk menerjemahkan review ke bahasa Inggris menggunakan Google Translate (TextBlob hanya bisa membaca teks bahasa Inggris)\n",
        "    Review: Teks review yang akan diterjemahkan.\n",
        "    Src_lang: Bahasa yang digunakan di review. Dipilih auto agar dapat menerjemahkan bahasa apapun yang terdeteksi.\n",
        "    \"\"\"\n",
        "    try:\n",
        "        translation = translator.translate(review, src=src_lang, dest='en') # diterjemahkan ke bahasa Inggris\n",
        "        return translation.text\n",
        "    except Exception as e:\n",
        "        print(f\"Error occured when translating: {e}\") # Jika bahasa tidak diketahui google translate\n",
        "        return review"
      ],
      "metadata": {
        "id": "qPWrtmSFCgZJ"
      },
      "execution_count": null,
      "outputs": []
    },
    {
      "cell_type": "markdown",
      "source": [
        "## Fungsi untuk memuat file JSON yang akan digunakan untuk penyimpanan data review"
      ],
      "metadata": {
        "id": "F59U2MkeCvQe"
      }
    },
    {
      "cell_type": "code",
      "source": [
        "#Membuat fungsi untuk menyimpan review\n",
        "def load_data():\n",
        "    \"\"\"\n",
        "    Fungsi untuk memuat file JSON yang digunakan dalam penyimpanan data review.\n",
        "    \"\"\"\n",
        "    global places_reviews, sentiment_summary\n",
        "    try:\n",
        "        with open(DATA_FILE, \"r\") as file:\n",
        "            data = json.load(file)\n",
        "            # Mengambil  data review tempat dan rangkuman sentimen\n",
        "            places_reviews = data[\"places_reviews\"]\n",
        "            sentiment_summary = defaultdict(lambda: {\"Positive\": 0, \"Netral\": 0, \"Negative\": 0}, data[\"sentiment_summary\"])\n",
        "            print(\"Data loaded successfully.\")\n",
        "    except FileNotFoundError:\n",
        "        print(\"No previous data found, starting from scratch.\")\n",
        "    except json.JSONDecodeError:\n",
        "        print(\"Corrupted data files. Starting with empty data.\")"
      ],
      "metadata": {
        "id": "qyJqK3VQC2iC"
      },
      "execution_count": null,
      "outputs": []
    },
    {
      "cell_type": "markdown",
      "source": [
        "## Fungsi untuk menyimpan data review ke file JSON"
      ],
      "metadata": {
        "id": "yxmcTAZzDJ_I"
      }
    },
    {
      "cell_type": "code",
      "source": [
        "#Membuat fungsi untuk menyimpan data review ke file JSON\n",
        "def save_data():\n",
        "    \"\"\"\n",
        "    Fungsi untuk menyimpan data review ke file JSON.\n",
        "    \"\"\"\n",
        "    #Membuka file dengan setting write\n",
        "    with open(DATA_FILE, \"w\") as file:\n",
        "      # Menyiapkan data yang akan disimpan\n",
        "        data = {\n",
        "            \"places_reviews\": places_reviews,\n",
        "            \"sentiment_summary\": sentiment_summary,\n",
        "        }\n",
        "        #Menyimpan data ke file json\n",
        "        json.dump(data, file, indent=4)\n",
        "        print(\"Data has been saved.\")\n"
      ],
      "metadata": {
        "id": "EUyHxtkrDOOe"
      },
      "execution_count": null,
      "outputs": []
    },
    {
      "cell_type": "markdown",
      "source": [
        "## Fungsi untuk reset history review"
      ],
      "metadata": {
        "id": "kucpLiZnDUsc"
      }
    },
    {
      "cell_type": "code",
      "source": [
        "#Membuat fungsi untuk mereset history data review\n",
        "def reset_history():\n",
        "    \"\"\"\n",
        "    Fungsi untuk mereset history data review.\n",
        "    \"\"\"\n",
        "    global places_reviews, sentiment_summary\n",
        "    # Konfirmasi dari user apakah ingin menghapus history review\n",
        "    confirm = input(\"Are you sure want to delete all review data history? (y/n): \").strip().lower()\n",
        "    if confirm == 'y':\n",
        "        places_reviews = {}\n",
        "        sentiment_summary = defaultdict(lambda: {\"Positive\": 0, \"Netral\": 0, \"Negative\": 0})\n",
        "        save_data()  # Simpan data kosong ke file JSON\n",
        "        print(\"All review data history have been deleted.\")\n",
        "    else:\n",
        "        print(\"History reset cancelled.\")\n"
      ],
      "metadata": {
        "id": "9TMk0yLsDaCb"
      },
      "execution_count": null,
      "outputs": []
    },
    {
      "cell_type": "markdown",
      "source": [
        "## Fungsi untuk menambahkan data review dari input user ke dictionary"
      ],
      "metadata": {
        "id": "vsuwKoxFDlTJ"
      }
    },
    {
      "cell_type": "code",
      "source": [
        "#Membuat fungsi untuk menambahkan data review\n",
        "def add_review_interactive():\n",
        "    \"\"\"\n",
        "    Fungsi untuk menu menambahkan review melalui input user.\n",
        "    \"\"\"\n",
        "    # Menerima input nama tempat dan review dari pengguna\n",
        "    place = input(\"Enter the place name: \").strip()\n",
        "    review = input(\"Enter your review about the place (can be in any language): \").strip()\n",
        "\n",
        "    translated_review = translate_review(review) # Menerjemahkan terlebih dahulu ke bahasa Inggris\n",
        "    sentiment = analyze_sentiment(translated_review) # Setelah diterjemahkan barulah dilakukan sentiment analysis\n",
        "\n",
        "    #Menambahkan tempat jika belum ada di tempat yang sudah di review\n",
        "    if place not in places_reviews:\n",
        "        places_reviews[place] = []\n",
        "\n",
        "    #Menambahkan revie dan analisis sentiment sesuai tempatnya\n",
        "    places_reviews[place].append({'review': review, 'translated_review': translated_review, 'sentiment': sentiment})\n",
        "    sentiment_summary[place][sentiment] += 1\n",
        "\n",
        "    print(f\"Review for {place} has been added: '{translated_review}' -> Sentiment: {sentiment}\")\n",
        "    save_data()"
      ],
      "metadata": {
        "id": "FFZgTDZMDukX"
      },
      "execution_count": null,
      "outputs": []
    },
    {
      "cell_type": "markdown",
      "source": [
        "## Fungsi untuk menampilkan ringkasan jumlah review dan sentimen untuk masing-masing tempat"
      ],
      "metadata": {
        "id": "ANbIW0UzD_uk"
      }
    },
    {
      "cell_type": "code",
      "source": [
        "#Membuat fungsi untuk menampilkan rangkuman review dan sentimen setiap tempat\n",
        "def display_summary():\n",
        "    \"\"\"\n",
        "    Fungsi untuk menampilkan jumlah review per sentimen untuk masing-masing tempat.\n",
        "    \"\"\"\n",
        "    print(\"\\nSentiment Summary:\")\n",
        "    for place, sentiments in sentiment_summary.items():\n",
        "        print(f\"Place name: {place}\")\n",
        "        for sentiment, count in sentiments.items():\n",
        "            print(f\"  {sentiment}: {count} review\") # Menampilkan jumlah dari masing-masing sentimen (positif, netral, dan negatif)\n",
        "        print()"
      ],
      "metadata": {
        "id": "GBLGlxVmEH96"
      },
      "execution_count": null,
      "outputs": []
    },
    {
      "cell_type": "markdown",
      "source": [
        "## Fungsi untuk menampilkan seluruh review yang tercatat untuk seluruh tempat"
      ],
      "metadata": {
        "id": "FqTPLUyCERLA"
      }
    },
    {
      "cell_type": "code",
      "execution_count": null,
      "metadata": {
        "id": "85pTZQkL-OQB"
      },
      "outputs": [],
      "source": [
        "#Membuat fungsi yang menampilkan seluruh review dari setiap tempat\n",
        "def display_reviews():\n",
        "    \"\"\"\n",
        "    Fungsi untuk menampilkan semua review untuk masing-masing tempat.\n",
        "    \"\"\"\n",
        "    print(\"\\nReview for each place:\")\n",
        "    #Mengambil nama tempat\n",
        "    for place, reviews in places_reviews.items():\n",
        "        print(f\"\\nReview for {place}:\")\n",
        "        #Mengambil review dan sentimen\n",
        "        for data in reviews:\n",
        "            print(f\"  Review: {data['review']}\")\n",
        "            print(f\"  Review (translated)): {data['translated_review']}\")\n",
        "            print(f\"  Sentiment: {data['sentiment']}\\n\")"
      ]
    },
    {
      "cell_type": "markdown",
      "source": [
        "# Main menu untuk input dari user"
      ],
      "metadata": {
        "id": "rBdLj1KgdWCR"
      }
    },
    {
      "cell_type": "code",
      "execution_count": null,
      "metadata": {
        "colab": {
          "base_uri": "https://localhost:8080/"
        },
        "id": "kbURFJO6-dYX",
        "outputId": "5db03f8b-ee0f-44af-a117-b5cfa9a68f0d"
      },
      "outputs": [
        {
          "output_type": "stream",
          "name": "stdout",
          "text": [
            "Data loaded successfully.\n",
            "\n",
            "Menu:\n",
            "1. Add review\n",
            "2. View all review\n",
            "3. Sentiment summary\n",
            "4. Reset all review data\n",
            "5. Exit\n",
            "Choose menu (1/2/3/4/5): 1\n",
            "Enter the place name: Alas Kedaton\n",
            "Enter your review about the place (can be in any language): Sangat Bagus\n",
            "Review for Alas Kedaton has been added: 'Very good' -> Sentiment: Positive\n",
            "Data has been saved.\n",
            "\n",
            "Menu:\n",
            "1. Add review\n",
            "2. View all review\n",
            "3. Sentiment summary\n",
            "4. Reset all review data\n",
            "5. Exit\n",
            "Choose menu (1/2/3/4/5): Alas Kedaton\n",
            "Invalid input. Please try again.\n",
            "\n",
            "Menu:\n",
            "1. Add review\n",
            "2. View all review\n",
            "3. Sentiment summary\n",
            "4. Reset all review data\n",
            "5. Exit\n",
            "Choose menu (1/2/3/4/5): Gakbanget\n",
            "Invalid input. Please try again.\n",
            "\n",
            "Menu:\n",
            "1. Add review\n",
            "2. View all review\n",
            "3. Sentiment summary\n",
            "4. Reset all review data\n",
            "5. Exit\n",
            "Choose menu (1/2/3/4/5): 1\n",
            "Enter the place name: Alas Kedaton\n",
            "Enter your review about the place (can be in any language): Gabanget\n",
            "Review for Alas Kedaton has been added: 'Gabang' -> Sentiment: Netral\n",
            "Data has been saved.\n",
            "\n",
            "Menu:\n",
            "1. Add review\n",
            "2. View all review\n",
            "3. Sentiment summary\n",
            "4. Reset all review data\n",
            "5. Exit\n",
            "Choose menu (1/2/3/4/5): 2\n",
            "\n",
            "Review for each place:\n",
            "\n",
            "Review for Alas Kedaton:\n",
            "  Review: Sangat bagus\n",
            "  Review (translated)): Very good\n",
            "  Sentiment: Positive\n",
            "\n",
            "  Review: Bosenin\n",
            "  Review (translated)): Bosenin\n",
            "  Sentiment: Netral\n",
            "\n",
            "  Review: Kurang oke\n",
            "  Review (translated)): Not okay\n",
            "  Sentiment: Negative\n",
            "\n",
            "  Review: kurang oke\n",
            "  Review (translated)): Not okay\n",
            "  Sentiment: Negative\n",
            "\n",
            "  Review: Sangat Bagus\n",
            "  Review (translated)): Very good\n",
            "  Sentiment: Positive\n",
            "\n",
            "  Review: Gabanget\n",
            "  Review (translated)): Gabang\n",
            "  Sentiment: Netral\n",
            "\n",
            "\n",
            "Review for Biasa aja:\n",
            "  Review: biasa aja\n",
            "  Review (translated)): Just the same\n",
            "  Sentiment: Netral\n",
            "\n",
            "\n",
            "Menu:\n",
            "1. Add review\n",
            "2. View all review\n",
            "3. Sentiment summary\n",
            "4. Reset all review data\n",
            "5. Exit\n",
            "Choose menu (1/2/3/4/5): 3\n",
            "\n",
            "Sentiment Summary:\n",
            "Place name: Alas Kedaton\n",
            "  Positive: 2 review\n",
            "  Netral: 2 review\n",
            "  Negative: 2 review\n",
            "\n",
            "Place name: Biasa aja\n",
            "  Positive: 0 review\n",
            "  Netral: 1 review\n",
            "  Negative: 0 review\n",
            "\n",
            "\n",
            "Menu:\n",
            "1. Add review\n",
            "2. View all review\n",
            "3. Sentiment summary\n",
            "4. Reset all review data\n",
            "5. Exit\n",
            "Choose menu (1/2/3/4/5): 4\n",
            "Are you sure want to delete all review data history? (y/n): y\n",
            "Data has been saved.\n",
            "All review data history have been deleted.\n",
            "\n",
            "Menu:\n",
            "1. Add review\n",
            "2. View all review\n",
            "3. Sentiment summary\n",
            "4. Reset all review data\n",
            "5. Exit\n",
            "Choose menu (1/2/3/4/5): 5\n",
            "Exit from program. Data will be saved.\n",
            "Data has been saved.\n"
          ]
        }
      ],
      "source": [
        "#Membuat fungsi untuk menu interaktif\n",
        "def main():\n",
        "    load_data()\n",
        "    while True:\n",
        "      #Menampilkan menu tersedia\n",
        "        print(\"\\nMenu:\")\n",
        "        print(\"1. Add review\")\n",
        "        print(\"2. View all review\")\n",
        "        print(\"3. Sentiment summary\")\n",
        "        print(\"4. Reset all review data\")\n",
        "        print(\"5. Exit\")\n",
        "\n",
        "        #Menerima masukan menu yang dipilih\n",
        "        choice = input(\"Choose menu (1/2/3/4/5): \").strip()\n",
        "\n",
        "        #Menentukan kondisi sesuai menu yang dipilih\n",
        "        if choice == '1':\n",
        "            add_review_interactive()\n",
        "        elif choice == '2':\n",
        "            display_reviews()\n",
        "        elif choice == '3':\n",
        "            display_summary()\n",
        "        elif choice == '4':\n",
        "            reset_history()\n",
        "        elif choice == '5':\n",
        "            print(\"Exit from program. Data will be saved.\")\n",
        "            save_data()\n",
        "            break\n",
        "        else:\n",
        "            print(\"Invalid input. Please try again.\")\n",
        "\n",
        "# Menjalankan program\n",
        "if __name__ == \"__main__\":\n",
        "    main()"
      ]
    }
  ],
  "metadata": {
    "colab": {
      "provenance": [],
      "collapsed_sections": [
        "K8DIbYK0pI9m"
      ]
    },
    "kernelspec": {
      "display_name": "Python 3",
      "name": "python3"
    },
    "language_info": {
      "name": "python"
    }
  },
  "nbformat": 4,
  "nbformat_minor": 0
}