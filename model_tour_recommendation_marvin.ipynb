{
  "nbformat": 4,
  "nbformat_minor": 0,
  "metadata": {
    "colab": {
      "provenance": []
    },
    "kernelspec": {
      "name": "python3",
      "display_name": "Python 3"
    },
    "language_info": {
      "name": "python"
    }
  },
  "cells": [
    {
      "cell_type": "markdown",
      "source": [
        "# Program ML Sistem Rekomendasi Tempat Wisata dengan Content Based Filtering"
      ],
      "metadata": {
        "id": "-rjNJ6FXIKGP"
      }
    },
    {
      "cell_type": "markdown",
      "source": [
        "## Library yang digunakan"
      ],
      "metadata": {
        "id": "TL4cbP04Ig-5"
      }
    },
    {
      "cell_type": "code",
      "execution_count": null,
      "metadata": {
        "id": "eW9hB3Jyc601"
      },
      "outputs": [],
      "source": [
        "import pandas as pd\n",
        "import numpy as np\n",
        "from sklearn.preprocessing import MinMaxScaler, OneHotEncoder\n",
        "from sklearn.model_selection import train_test_split\n",
        "from tensorflow.keras.models import Sequential\n",
        "from tensorflow.keras.layers import Dense, Dropout\n",
        "from tensorflow.keras.losses import Huber\n",
        "import tensorflow.keras.backend as K\n",
        "import matplotlib.pyplot as plt\n",
        "import tensorflow as tf\n",
        "from sklearn.metrics.pairwise import cosine_similarity\n",
        "from tensorflow.keras.optimizers import Adam\n",
        "from tensorflow.keras.regularizers import l2\n",
        "from tensorflow.keras.callbacks import EarlyStopping, ReduceLROnPlateau"
      ]
    },
    {
      "cell_type": "markdown",
      "source": [
        "## Upload Dataset"
      ],
      "metadata": {
        "id": "jimZXA0-Il_g"
      }
    },
    {
      "cell_type": "code",
      "source": [
        "# Load dataset\n",
        "file_path = 'WISATA.xlsx'\n",
        "df = pd.read_excel(file_path, sheet_name='wisatafix')\n",
        "df.head()"
      ],
      "metadata": {
        "colab": {
          "base_uri": "https://localhost:8080/",
          "height": 608
        },
        "id": "ipCtITXhdJ9F",
        "outputId": "80b54ad9-eaad-4378-83b7-536fb241e497"
      },
      "execution_count": null,
      "outputs": [
        {
          "output_type": "execute_result",
          "data": {
            "text/plain": [
              "                                         Google.Maps                    Name  \\\n",
              "0  https://www.google.com/maps/place/Upside+Down+...  Upside Down World Bali   \n",
              "1  https://www.google.com/maps/place/Alas+Kedaton...            Alas Kedaton   \n",
              "2  https://www.google.com/maps/place/Big+Garden+C...       Big Garden Corner   \n",
              "3  https://www.google.com/maps/place/Taman+Nusa/d...              Taman Nusa   \n",
              "4  https://www.google.com/maps/place/Krisna+Funta...    Krisna Funtasticland   \n",
              "\n",
              "   Rating            Kategori                                      Review  \\\n",
              "0     4.2  Tourist attraction                            On-site services   \n",
              "1     4.2  Tourist attraction             flying fox dan sepeda gantung.\"   \n",
              "2     4.3  Tourist attraction                                         NaN   \n",
              "3     4.3              Museum                                         NaN   \n",
              "4     4.3  Tourist attraction  \"Saya benar-benar terhibur dengan berbagai   \n",
              "\n",
              "                                               Jalan  \\\n",
              "0                       Jl. Bypass Ngurah Rai No.762   \n",
              "1                    F5C4+644, Jl. Raya Alas Kedaton   \n",
              "2                       Sanur, Jl. Bypass Ngurah Rai   \n",
              "3  Banjar Blahpane Kelod, Jl. Taman Bali Â– Banja...   \n",
              "4                   RXCV+HMR, Jl. Seririt- Singaraja   \n",
              "\n",
              "   Harga Tiket Masuk WNI Dewasa ()  Harga Tiket Masuk WNI Anak-Anak ()  \\\n",
              "0                         100000.0                             50000.0   \n",
              "1                          20000.0                             15000.0   \n",
              "2                          35000.0                             35000.0   \n",
              "3                          75000.0                             75000.0   \n",
              "4                          90000.0                             90000.0   \n",
              "\n",
              "   Harga Tiket Masuk WNA Dewasa  Harga Tiket Masuk WNA Anak-Anak  \\\n",
              "0                      150000.0                         100000.0   \n",
              "1                       50000.0                          25000.0   \n",
              "2                       50000.0                          50000.0   \n",
              "3                      100000.0                         100000.0   \n",
              "4                       90000.0                          90000.0   \n",
              "\n",
              "  Kota/Kabupaten  \n",
              "0       Denpasar  \n",
              "1        Tabanan  \n",
              "2       Denpasar  \n",
              "3        Gianyar  \n",
              "4       Buleleng  "
            ],
            "text/html": [
              "\n",
              "  <div id=\"df-1a53701f-a0f7-4de5-b38d-b56717b58938\" class=\"colab-df-container\">\n",
              "    <div>\n",
              "<style scoped>\n",
              "    .dataframe tbody tr th:only-of-type {\n",
              "        vertical-align: middle;\n",
              "    }\n",
              "\n",
              "    .dataframe tbody tr th {\n",
              "        vertical-align: top;\n",
              "    }\n",
              "\n",
              "    .dataframe thead th {\n",
              "        text-align: right;\n",
              "    }\n",
              "</style>\n",
              "<table border=\"1\" class=\"dataframe\">\n",
              "  <thead>\n",
              "    <tr style=\"text-align: right;\">\n",
              "      <th></th>\n",
              "      <th>Google.Maps</th>\n",
              "      <th>Name</th>\n",
              "      <th>Rating</th>\n",
              "      <th>Kategori</th>\n",
              "      <th>Review</th>\n",
              "      <th>Jalan</th>\n",
              "      <th>Harga Tiket Masuk WNI Dewasa ()</th>\n",
              "      <th>Harga Tiket Masuk WNI Anak-Anak ()</th>\n",
              "      <th>Harga Tiket Masuk WNA Dewasa</th>\n",
              "      <th>Harga Tiket Masuk WNA Anak-Anak</th>\n",
              "      <th>Kota/Kabupaten</th>\n",
              "    </tr>\n",
              "  </thead>\n",
              "  <tbody>\n",
              "    <tr>\n",
              "      <th>0</th>\n",
              "      <td>https://www.google.com/maps/place/Upside+Down+...</td>\n",
              "      <td>Upside Down World Bali</td>\n",
              "      <td>4.2</td>\n",
              "      <td>Tourist attraction</td>\n",
              "      <td>On-site services</td>\n",
              "      <td>Jl. Bypass Ngurah Rai No.762</td>\n",
              "      <td>100000.0</td>\n",
              "      <td>50000.0</td>\n",
              "      <td>150000.0</td>\n",
              "      <td>100000.0</td>\n",
              "      <td>Denpasar</td>\n",
              "    </tr>\n",
              "    <tr>\n",
              "      <th>1</th>\n",
              "      <td>https://www.google.com/maps/place/Alas+Kedaton...</td>\n",
              "      <td>Alas Kedaton</td>\n",
              "      <td>4.2</td>\n",
              "      <td>Tourist attraction</td>\n",
              "      <td>flying fox dan sepeda gantung.\"</td>\n",
              "      <td>F5C4+644, Jl. Raya Alas Kedaton</td>\n",
              "      <td>20000.0</td>\n",
              "      <td>15000.0</td>\n",
              "      <td>50000.0</td>\n",
              "      <td>25000.0</td>\n",
              "      <td>Tabanan</td>\n",
              "    </tr>\n",
              "    <tr>\n",
              "      <th>2</th>\n",
              "      <td>https://www.google.com/maps/place/Big+Garden+C...</td>\n",
              "      <td>Big Garden Corner</td>\n",
              "      <td>4.3</td>\n",
              "      <td>Tourist attraction</td>\n",
              "      <td>NaN</td>\n",
              "      <td>Sanur, Jl. Bypass Ngurah Rai</td>\n",
              "      <td>35000.0</td>\n",
              "      <td>35000.0</td>\n",
              "      <td>50000.0</td>\n",
              "      <td>50000.0</td>\n",
              "      <td>Denpasar</td>\n",
              "    </tr>\n",
              "    <tr>\n",
              "      <th>3</th>\n",
              "      <td>https://www.google.com/maps/place/Taman+Nusa/d...</td>\n",
              "      <td>Taman Nusa</td>\n",
              "      <td>4.3</td>\n",
              "      <td>Museum</td>\n",
              "      <td>NaN</td>\n",
              "      <td>Banjar Blahpane Kelod, Jl. Taman Bali Â– Banja...</td>\n",
              "      <td>75000.0</td>\n",
              "      <td>75000.0</td>\n",
              "      <td>100000.0</td>\n",
              "      <td>100000.0</td>\n",
              "      <td>Gianyar</td>\n",
              "    </tr>\n",
              "    <tr>\n",
              "      <th>4</th>\n",
              "      <td>https://www.google.com/maps/place/Krisna+Funta...</td>\n",
              "      <td>Krisna Funtasticland</td>\n",
              "      <td>4.3</td>\n",
              "      <td>Tourist attraction</td>\n",
              "      <td>\"Saya benar-benar terhibur dengan berbagai</td>\n",
              "      <td>RXCV+HMR, Jl. Seririt- Singaraja</td>\n",
              "      <td>90000.0</td>\n",
              "      <td>90000.0</td>\n",
              "      <td>90000.0</td>\n",
              "      <td>90000.0</td>\n",
              "      <td>Buleleng</td>\n",
              "    </tr>\n",
              "  </tbody>\n",
              "</table>\n",
              "</div>\n",
              "    <div class=\"colab-df-buttons\">\n",
              "\n",
              "  <div class=\"colab-df-container\">\n",
              "    <button class=\"colab-df-convert\" onclick=\"convertToInteractive('df-1a53701f-a0f7-4de5-b38d-b56717b58938')\"\n",
              "            title=\"Convert this dataframe to an interactive table.\"\n",
              "            style=\"display:none;\">\n",
              "\n",
              "  <svg xmlns=\"http://www.w3.org/2000/svg\" height=\"24px\" viewBox=\"0 -960 960 960\">\n",
              "    <path d=\"M120-120v-720h720v720H120Zm60-500h600v-160H180v160Zm220 220h160v-160H400v160Zm0 220h160v-160H400v160ZM180-400h160v-160H180v160Zm440 0h160v-160H620v160ZM180-180h160v-160H180v160Zm440 0h160v-160H620v160Z\"/>\n",
              "  </svg>\n",
              "    </button>\n",
              "\n",
              "  <style>\n",
              "    .colab-df-container {\n",
              "      display:flex;\n",
              "      gap: 12px;\n",
              "    }\n",
              "\n",
              "    .colab-df-convert {\n",
              "      background-color: #E8F0FE;\n",
              "      border: none;\n",
              "      border-radius: 50%;\n",
              "      cursor: pointer;\n",
              "      display: none;\n",
              "      fill: #1967D2;\n",
              "      height: 32px;\n",
              "      padding: 0 0 0 0;\n",
              "      width: 32px;\n",
              "    }\n",
              "\n",
              "    .colab-df-convert:hover {\n",
              "      background-color: #E2EBFA;\n",
              "      box-shadow: 0px 1px 2px rgba(60, 64, 67, 0.3), 0px 1px 3px 1px rgba(60, 64, 67, 0.15);\n",
              "      fill: #174EA6;\n",
              "    }\n",
              "\n",
              "    .colab-df-buttons div {\n",
              "      margin-bottom: 4px;\n",
              "    }\n",
              "\n",
              "    [theme=dark] .colab-df-convert {\n",
              "      background-color: #3B4455;\n",
              "      fill: #D2E3FC;\n",
              "    }\n",
              "\n",
              "    [theme=dark] .colab-df-convert:hover {\n",
              "      background-color: #434B5C;\n",
              "      box-shadow: 0px 1px 3px 1px rgba(0, 0, 0, 0.15);\n",
              "      filter: drop-shadow(0px 1px 2px rgba(0, 0, 0, 0.3));\n",
              "      fill: #FFFFFF;\n",
              "    }\n",
              "  </style>\n",
              "\n",
              "    <script>\n",
              "      const buttonEl =\n",
              "        document.querySelector('#df-1a53701f-a0f7-4de5-b38d-b56717b58938 button.colab-df-convert');\n",
              "      buttonEl.style.display =\n",
              "        google.colab.kernel.accessAllowed ? 'block' : 'none';\n",
              "\n",
              "      async function convertToInteractive(key) {\n",
              "        const element = document.querySelector('#df-1a53701f-a0f7-4de5-b38d-b56717b58938');\n",
              "        const dataTable =\n",
              "          await google.colab.kernel.invokeFunction('convertToInteractive',\n",
              "                                                    [key], {});\n",
              "        if (!dataTable) return;\n",
              "\n",
              "        const docLinkHtml = 'Like what you see? Visit the ' +\n",
              "          '<a target=\"_blank\" href=https://colab.research.google.com/notebooks/data_table.ipynb>data table notebook</a>'\n",
              "          + ' to learn more about interactive tables.';\n",
              "        element.innerHTML = '';\n",
              "        dataTable['output_type'] = 'display_data';\n",
              "        await google.colab.output.renderOutput(dataTable, element);\n",
              "        const docLink = document.createElement('div');\n",
              "        docLink.innerHTML = docLinkHtml;\n",
              "        element.appendChild(docLink);\n",
              "      }\n",
              "    </script>\n",
              "  </div>\n",
              "\n",
              "\n",
              "<div id=\"df-41e19c46-85e0-446b-ae52-ac05029b6647\">\n",
              "  <button class=\"colab-df-quickchart\" onclick=\"quickchart('df-41e19c46-85e0-446b-ae52-ac05029b6647')\"\n",
              "            title=\"Suggest charts\"\n",
              "            style=\"display:none;\">\n",
              "\n",
              "<svg xmlns=\"http://www.w3.org/2000/svg\" height=\"24px\"viewBox=\"0 0 24 24\"\n",
              "     width=\"24px\">\n",
              "    <g>\n",
              "        <path d=\"M19 3H5c-1.1 0-2 .9-2 2v14c0 1.1.9 2 2 2h14c1.1 0 2-.9 2-2V5c0-1.1-.9-2-2-2zM9 17H7v-7h2v7zm4 0h-2V7h2v10zm4 0h-2v-4h2v4z\"/>\n",
              "    </g>\n",
              "</svg>\n",
              "  </button>\n",
              "\n",
              "<style>\n",
              "  .colab-df-quickchart {\n",
              "      --bg-color: #E8F0FE;\n",
              "      --fill-color: #1967D2;\n",
              "      --hover-bg-color: #E2EBFA;\n",
              "      --hover-fill-color: #174EA6;\n",
              "      --disabled-fill-color: #AAA;\n",
              "      --disabled-bg-color: #DDD;\n",
              "  }\n",
              "\n",
              "  [theme=dark] .colab-df-quickchart {\n",
              "      --bg-color: #3B4455;\n",
              "      --fill-color: #D2E3FC;\n",
              "      --hover-bg-color: #434B5C;\n",
              "      --hover-fill-color: #FFFFFF;\n",
              "      --disabled-bg-color: #3B4455;\n",
              "      --disabled-fill-color: #666;\n",
              "  }\n",
              "\n",
              "  .colab-df-quickchart {\n",
              "    background-color: var(--bg-color);\n",
              "    border: none;\n",
              "    border-radius: 50%;\n",
              "    cursor: pointer;\n",
              "    display: none;\n",
              "    fill: var(--fill-color);\n",
              "    height: 32px;\n",
              "    padding: 0;\n",
              "    width: 32px;\n",
              "  }\n",
              "\n",
              "  .colab-df-quickchart:hover {\n",
              "    background-color: var(--hover-bg-color);\n",
              "    box-shadow: 0 1px 2px rgba(60, 64, 67, 0.3), 0 1px 3px 1px rgba(60, 64, 67, 0.15);\n",
              "    fill: var(--button-hover-fill-color);\n",
              "  }\n",
              "\n",
              "  .colab-df-quickchart-complete:disabled,\n",
              "  .colab-df-quickchart-complete:disabled:hover {\n",
              "    background-color: var(--disabled-bg-color);\n",
              "    fill: var(--disabled-fill-color);\n",
              "    box-shadow: none;\n",
              "  }\n",
              "\n",
              "  .colab-df-spinner {\n",
              "    border: 2px solid var(--fill-color);\n",
              "    border-color: transparent;\n",
              "    border-bottom-color: var(--fill-color);\n",
              "    animation:\n",
              "      spin 1s steps(1) infinite;\n",
              "  }\n",
              "\n",
              "  @keyframes spin {\n",
              "    0% {\n",
              "      border-color: transparent;\n",
              "      border-bottom-color: var(--fill-color);\n",
              "      border-left-color: var(--fill-color);\n",
              "    }\n",
              "    20% {\n",
              "      border-color: transparent;\n",
              "      border-left-color: var(--fill-color);\n",
              "      border-top-color: var(--fill-color);\n",
              "    }\n",
              "    30% {\n",
              "      border-color: transparent;\n",
              "      border-left-color: var(--fill-color);\n",
              "      border-top-color: var(--fill-color);\n",
              "      border-right-color: var(--fill-color);\n",
              "    }\n",
              "    40% {\n",
              "      border-color: transparent;\n",
              "      border-right-color: var(--fill-color);\n",
              "      border-top-color: var(--fill-color);\n",
              "    }\n",
              "    60% {\n",
              "      border-color: transparent;\n",
              "      border-right-color: var(--fill-color);\n",
              "    }\n",
              "    80% {\n",
              "      border-color: transparent;\n",
              "      border-right-color: var(--fill-color);\n",
              "      border-bottom-color: var(--fill-color);\n",
              "    }\n",
              "    90% {\n",
              "      border-color: transparent;\n",
              "      border-bottom-color: var(--fill-color);\n",
              "    }\n",
              "  }\n",
              "</style>\n",
              "\n",
              "  <script>\n",
              "    async function quickchart(key) {\n",
              "      const quickchartButtonEl =\n",
              "        document.querySelector('#' + key + ' button');\n",
              "      quickchartButtonEl.disabled = true;  // To prevent multiple clicks.\n",
              "      quickchartButtonEl.classList.add('colab-df-spinner');\n",
              "      try {\n",
              "        const charts = await google.colab.kernel.invokeFunction(\n",
              "            'suggestCharts', [key], {});\n",
              "      } catch (error) {\n",
              "        console.error('Error during call to suggestCharts:', error);\n",
              "      }\n",
              "      quickchartButtonEl.classList.remove('colab-df-spinner');\n",
              "      quickchartButtonEl.classList.add('colab-df-quickchart-complete');\n",
              "    }\n",
              "    (() => {\n",
              "      let quickchartButtonEl =\n",
              "        document.querySelector('#df-41e19c46-85e0-446b-ae52-ac05029b6647 button');\n",
              "      quickchartButtonEl.style.display =\n",
              "        google.colab.kernel.accessAllowed ? 'block' : 'none';\n",
              "    })();\n",
              "  </script>\n",
              "</div>\n",
              "\n",
              "    </div>\n",
              "  </div>\n"
            ],
            "application/vnd.google.colaboratory.intrinsic+json": {
              "type": "dataframe",
              "variable_name": "df",
              "summary": "{\n  \"name\": \"df\",\n  \"rows\": 313,\n  \"fields\": [\n    {\n      \"column\": \"Google.Maps\",\n      \"properties\": {\n        \"dtype\": \"string\",\n        \"num_unique_values\": 313,\n        \"samples\": [\n          \"https://www.google.com/maps/place/Thomas+Beach/data=!4m7!3m6!1s0x2dd2455651a863d5:0xace756491f60ad7d!8m2!3d-8.8134521!4d115.0962459!16s%2Fg%2F11g8yhk_t5!19sChIJ1WOoUVZF0i0Rfa1gH0lW56w?authuser=0&hl=en&rclk=1\",\n          \"https://www.google.com/maps/place/Bali+Museum/data=!4m7!3m6!1s0x2dd2409a2f3cad43:0xf32d693f7bfe87da!8m2!3d-8.6575741!4d115.2185908!16s%2Fm%2F076xxfn!19sChIJQ608L5pA0i0R2of-ez9pLfM?authuser=0&hl=en&rclk=1\",\n          \"https://www.google.com/maps/place/Sekumpul+Waterfall/data=!4m7!3m6!1s0x2dd18f2016762a37:0x18e8b8bb069da935!8m2!3d-8.1775308!4d115.1825825!16s%2Fg%2F11pclg13f6!19sChIJNyp2FiCP0S0RNamdBru46Bg?authuser=0&hl=en&rclk=1\"\n        ],\n        \"semantic_type\": \"\",\n        \"description\": \"\"\n      }\n    },\n    {\n      \"column\": \"Name\",\n      \"properties\": {\n        \"dtype\": \"string\",\n        \"num_unique_values\": 313,\n        \"samples\": [\n          \"Thomas Beach\",\n          \"Bali Museum\",\n          \"Sekumpul Waterfall\"\n        ],\n        \"semantic_type\": \"\",\n        \"description\": \"\"\n      }\n    },\n    {\n      \"column\": \"Rating\",\n      \"properties\": {\n        \"dtype\": \"number\",\n        \"std\": 0.33913280470681617,\n        \"min\": 1.0,\n        \"max\": 5.0,\n        \"num_unique_values\": 18,\n        \"samples\": [\n          4.2,\n          4.3,\n          3.9\n        ],\n        \"semantic_type\": \"\",\n        \"description\": \"\"\n      }\n    },\n    {\n      \"column\": \"Kategori\",\n      \"properties\": {\n        \"dtype\": \"category\",\n        \"num_unique_values\": 3,\n        \"samples\": [\n          \"Tourist attraction\",\n          \"Museum\",\n          \"Beach\"\n        ],\n        \"semantic_type\": \"\",\n        \"description\": \"\"\n      }\n    },\n    {\n      \"column\": \"Review\",\n      \"properties\": {\n        \"dtype\": \"string\",\n        \"num_unique_values\": 187,\n        \"samples\": [\n          \"\\\"Beautiful waterfall in a secluded area managed by lovely people.\\\"\",\n          \"\\\"Melhor Vista de Bali\\\"\",\n          \"\\\"One of my favorite beach in Bali because it's so close to my house!\\\"\"\n        ],\n        \"semantic_type\": \"\",\n        \"description\": \"\"\n      }\n    },\n    {\n      \"column\": \"Jalan\",\n      \"properties\": {\n        \"dtype\": \"string\",\n        \"num_unique_values\": 207,\n        \"samples\": [\n          \"GFMJ+67\",\n          \"Jl. Brahmana\",\n          \"87G7+2FV, Jl. Hang Tuah\"\n        ],\n        \"semantic_type\": \"\",\n        \"description\": \"\"\n      }\n    },\n    {\n      \"column\": \"Harga Tiket Masuk WNI Dewasa ()\",\n      \"properties\": {\n        \"dtype\": \"number\",\n        \"std\": 35871.34431684013,\n        \"min\": 0.0,\n        \"max\": 520000.0,\n        \"num_unique_values\": 24,\n        \"samples\": [\n          5000.0,\n          25000.0,\n          100000.0\n        ],\n        \"semantic_type\": \"\",\n        \"description\": \"\"\n      }\n    },\n    {\n      \"column\": \"Harga Tiket Masuk WNI Anak-Anak ()\",\n      \"properties\": {\n        \"dtype\": \"number\",\n        \"std\": 30025.209367908283,\n        \"min\": 0.0,\n        \"max\": 425000.0,\n        \"num_unique_values\": 23,\n        \"samples\": [\n          30000.0,\n          100000.0,\n          50000.0\n        ],\n        \"semantic_type\": \"\",\n        \"description\": \"\"\n      }\n    },\n    {\n      \"column\": \"Harga Tiket Masuk WNA Dewasa\",\n      \"properties\": {\n        \"dtype\": \"number\",\n        \"std\": 56039.73222544983,\n        \"min\": 0.0,\n        \"max\": 650000.0,\n        \"num_unique_values\": 28,\n        \"samples\": [\n          115000.0,\n          8000.0,\n          5000.0\n        ],\n        \"semantic_type\": \"\",\n        \"description\": \"\"\n      }\n    },\n    {\n      \"column\": \"Harga Tiket Masuk WNA Anak-Anak\",\n      \"properties\": {\n        \"dtype\": \"number\",\n        \"std\": 42381.72140776647,\n        \"min\": 0.0,\n        \"max\": 450000.0,\n        \"num_unique_values\": 27,\n        \"samples\": [\n          115000.0,\n          425000.0,\n          450000.0\n        ],\n        \"semantic_type\": \"\",\n        \"description\": \"\"\n      }\n    },\n    {\n      \"column\": \"Kota/Kabupaten\",\n      \"properties\": {\n        \"dtype\": \"category\",\n        \"num_unique_values\": 12,\n        \"samples\": [\n          \"Tutup(gianyar)\",\n          \"ban\",\n          \"Denpasar\"\n        ],\n        \"semantic_type\": \"\",\n        \"description\": \"\"\n      }\n    }\n  ]\n}"
            }
          },
          "metadata": {},
          "execution_count": 2
        }
      ]
    },
    {
      "cell_type": "code",
      "source": [
        "# Pilih kolom yang digunakan\n",
        "selected_columns = {\n",
        "    \"Name\": \"name\",\n",
        "    \"Rating\": \"rating\",\n",
        "    \"Kategori\": \"category\",\n",
        "    \"Harga Tiket Masuk WNA Dewasa\": \"price_wna\", # Harga yang digunakan hanya harga WNA dewasa\n",
        "    \"Kota/Kabupaten\": \"city\",\n",
        "    \"Jalan\": \"address\",\n",
        "    \"Google.Maps\": \"google_maps\"\n",
        "}\n",
        "# Rename kolom\n",
        "df = df.rename(columns=selected_columns)\n",
        "# Pilih kolom yang telah direname\n",
        "df = df[['name', 'rating', 'category', 'price_wna', 'city', 'address', 'google_maps']]\n",
        "# Bersihkan data kosong dan sesuaikan tipe data\n",
        "data = df.dropna(subset=[\"name\", \"rating\", \"category\", \"price_wna\", \"city\"])\n",
        "data[\"price_wna\"] = data[\"price_wna\"].astype(float)\n",
        "data[\"rating\"] = data[\"rating\"].astype(float)"
      ],
      "metadata": {
        "id": "C-GHASZVgdul"
      },
      "execution_count": null,
      "outputs": []
    },
    {
      "cell_type": "markdown",
      "source": [
        "## Normalisasi dan encoding 4 fitur yang digunakan"
      ],
      "metadata": {
        "id": "-KjhcTpGJE7y"
      }
    },
    {
      "cell_type": "code",
      "source": [
        "# Normalisasi price and rating\n",
        "scaler = MinMaxScaler()\n",
        "data[['price_wna', 'rating']] = scaler.fit_transform(data[['price_wna', 'rating']])\n",
        "\n",
        "# One-hot encode untuk category and city\n",
        "encoder_category = OneHotEncoder(sparse_output=False, handle_unknown='ignore')\n",
        "encoder_city = OneHotEncoder(sparse_output=False, handle_unknown='ignore')\n",
        "\n",
        "encoded_category = encoder_category.fit_transform(data[['category']])\n",
        "encoded_city = encoder_city.fit_transform(data[['city']])\n",
        "\n",
        "# Gabungkan 4 fitur yang dipilih\n",
        "X = np.hstack((encoded_category, encoded_city, data[['price_wna', 'rating']].values))\n",
        "\n",
        "# Dummy target untuk pelatihan\n",
        "y = np.random.rand(len(X))"
      ],
      "metadata": {
        "id": "kVth7wDYg2UX"
      },
      "execution_count": null,
      "outputs": []
    },
    {
      "cell_type": "markdown",
      "source": [
        "## Model neural network"
      ],
      "metadata": {
        "id": "cFttmGOZJc-b"
      }
    },
    {
      "cell_type": "code",
      "source": [
        "# Split dataset 80% test 20% validation\n",
        "train_X, test_X, y_train, y_test = train_test_split(X, y, test_size=0.2, random_state=42)\n",
        "\n",
        "# Bangun model\n",
        "input_dim = train_X.shape[1] # karena ada 4 fitur maka neuron input = 4\n",
        "\n",
        "model = tf.keras.Sequential([\n",
        "    tf.keras.layers.Input(shape=(input_dim,)),\n",
        "    tf.keras.layers.Dense(20, activation='relu', kernel_regularizer=l2(0.01)),\n",
        "    Dropout(0.2),\n",
        "    tf.keras.layers.Dense(10, activation='relu', kernel_regularizer=l2(0.01)),\n",
        "    Dropout(0.2),\n",
        "    tf.keras.layers.Dense(1, activation='sigmoid') # 1 output, yaitu nilai kecocokan/relevansi tiap tempat wisata [0,1] sehingga gunakan sigmoid\n",
        "])\n",
        "\n",
        "# Definisikan metric RMSE\n",
        "def rmse(y_true, y_pred):\n",
        "    return K.sqrt(K.mean(K.square(y_true - y_pred)))\n",
        "\n",
        "# Compile model\n",
        "huber_loss = Huber(delta=1.0) # gunakan huber karena netral, tidak terlalu sensitif terhadap error kecil seperti MSE dan tidak terlalu sensitif juga untuk error besar seperti MAE\n",
        "model.compile(optimizer=Adam(learning_rate=0.001), loss=huber_loss, metrics=['mae', rmse])\n",
        "\n",
        "# early stopping\n",
        "early_stopping = EarlyStopping(\n",
        "    monitor='val_loss',\n",
        "    patience=10,  # Berhenti setelah 10 epoch tanpa perbaikan\n",
        "    restore_best_weights=True  # Kembalikan bobot terbaik\n",
        ")\n",
        "\n",
        "# Train model\n",
        "history = model.fit(\n",
        "    train_X, y_train,\n",
        "    validation_data=(test_X, y_test),\n",
        "    epochs=100,\n",
        "    batch_size=16,\n",
        "    callbacks=[early_stopping]\n",
        ")"
      ],
      "metadata": {
        "colab": {
          "base_uri": "https://localhost:8080/"
        },
        "id": "oD3bX-Glg-gw",
        "outputId": "4e2581d5-9269-4fbd-d71e-d88e168077ac"
      },
      "execution_count": null,
      "outputs": [
        {
          "output_type": "stream",
          "name": "stdout",
          "text": [
            "Epoch 1/100\n",
            "\u001b[1m16/16\u001b[0m \u001b[32m━━━━━━━━━━━━━━━━━━━━\u001b[0m\u001b[37m\u001b[0m \u001b[1m2s\u001b[0m 17ms/step - loss: 0.3452 - mae: 0.2483 - rmse: 0.2936 - val_loss: 0.3224 - val_mae: 0.2503 - val_rmse: 0.2921\n",
            "Epoch 2/100\n",
            "\u001b[1m16/16\u001b[0m \u001b[32m━━━━━━━━━━━━━━━━━━━━\u001b[0m\u001b[37m\u001b[0m \u001b[1m0s\u001b[0m 5ms/step - loss: 0.3185 - mae: 0.2678 - rmse: 0.3089 - val_loss: 0.2919 - val_mae: 0.2499 - val_rmse: 0.2915\n",
            "Epoch 3/100\n",
            "\u001b[1m16/16\u001b[0m \u001b[32m━━━━━━━━━━━━━━━━━━━━\u001b[0m\u001b[37m\u001b[0m \u001b[1m0s\u001b[0m 5ms/step - loss: 0.2886 - mae: 0.2632 - rmse: 0.3032 - val_loss: 0.2643 - val_mae: 0.2493 - val_rmse: 0.2909\n",
            "Epoch 4/100\n",
            "\u001b[1m16/16\u001b[0m \u001b[32m━━━━━━━━━━━━━━━━━━━━\u001b[0m\u001b[37m\u001b[0m \u001b[1m0s\u001b[0m 4ms/step - loss: 0.2604 - mae: 0.2634 - rmse: 0.3002 - val_loss: 0.2398 - val_mae: 0.2494 - val_rmse: 0.2908\n",
            "Epoch 5/100\n",
            "\u001b[1m16/16\u001b[0m \u001b[32m━━━━━━━━━━━━━━━━━━━━\u001b[0m\u001b[37m\u001b[0m \u001b[1m0s\u001b[0m 4ms/step - loss: 0.2348 - mae: 0.2535 - rmse: 0.2921 - val_loss: 0.2177 - val_mae: 0.2490 - val_rmse: 0.2905\n",
            "Epoch 6/100\n",
            "\u001b[1m16/16\u001b[0m \u001b[32m━━━━━━━━━━━━━━━━━━━━\u001b[0m\u001b[37m\u001b[0m \u001b[1m0s\u001b[0m 4ms/step - loss: 0.2166 - mae: 0.2670 - rmse: 0.3015 - val_loss: 0.1977 - val_mae: 0.2486 - val_rmse: 0.2902\n",
            "Epoch 7/100\n",
            "\u001b[1m16/16\u001b[0m \u001b[32m━━━━━━━━━━━━━━━━━━━━\u001b[0m\u001b[37m\u001b[0m \u001b[1m0s\u001b[0m 4ms/step - loss: 0.1900 - mae: 0.2410 - rmse: 0.2798 - val_loss: 0.1800 - val_mae: 0.2486 - val_rmse: 0.2901\n",
            "Epoch 8/100\n",
            "\u001b[1m16/16\u001b[0m \u001b[32m━━━━━━━━━━━━━━━━━━━━\u001b[0m\u001b[37m\u001b[0m \u001b[1m0s\u001b[0m 5ms/step - loss: 0.1767 - mae: 0.2530 - rmse: 0.2926 - val_loss: 0.1642 - val_mae: 0.2487 - val_rmse: 0.2902\n",
            "Epoch 9/100\n",
            "\u001b[1m16/16\u001b[0m \u001b[32m━━━━━━━━━━━━━━━━━━━━\u001b[0m\u001b[37m\u001b[0m \u001b[1m0s\u001b[0m 5ms/step - loss: 0.1625 - mae: 0.2597 - rmse: 0.2986 - val_loss: 0.1499 - val_mae: 0.2486 - val_rmse: 0.2900\n",
            "Epoch 10/100\n",
            "\u001b[1m16/16\u001b[0m \u001b[32m━━━━━━━━━━━━━━━━━━━━\u001b[0m\u001b[37m\u001b[0m \u001b[1m0s\u001b[0m 5ms/step - loss: 0.1528 - mae: 0.2739 - rmse: 0.3085 - val_loss: 0.1371 - val_mae: 0.2484 - val_rmse: 0.2898\n",
            "Epoch 11/100\n",
            "\u001b[1m16/16\u001b[0m \u001b[32m━━━━━━━━━━━━━━━━━━━━\u001b[0m\u001b[37m\u001b[0m \u001b[1m0s\u001b[0m 4ms/step - loss: 0.1372 - mae: 0.2651 - rmse: 0.3000 - val_loss: 0.1256 - val_mae: 0.2483 - val_rmse: 0.2896\n",
            "Epoch 12/100\n",
            "\u001b[1m16/16\u001b[0m \u001b[32m━━━━━━━━━━━━━━━━━━━━\u001b[0m\u001b[37m\u001b[0m \u001b[1m0s\u001b[0m 4ms/step - loss: 0.1225 - mae: 0.2499 - rmse: 0.2884 - val_loss: 0.1155 - val_mae: 0.2483 - val_rmse: 0.2895\n",
            "Epoch 13/100\n",
            "\u001b[1m16/16\u001b[0m \u001b[32m━━━━━━━━━━━━━━━━━━━━\u001b[0m\u001b[37m\u001b[0m \u001b[1m0s\u001b[0m 4ms/step - loss: 0.1142 - mae: 0.2566 - rmse: 0.2941 - val_loss: 0.1065 - val_mae: 0.2481 - val_rmse: 0.2895\n",
            "Epoch 14/100\n",
            "\u001b[1m16/16\u001b[0m \u001b[32m━━━━━━━━━━━━━━━━━━━━\u001b[0m\u001b[37m\u001b[0m \u001b[1m0s\u001b[0m 4ms/step - loss: 0.1084 - mae: 0.2663 - rmse: 0.3032 - val_loss: 0.0986 - val_mae: 0.2481 - val_rmse: 0.2895\n",
            "Epoch 15/100\n",
            "\u001b[1m16/16\u001b[0m \u001b[32m━━━━━━━━━━━━━━━━━━━━\u001b[0m\u001b[37m\u001b[0m \u001b[1m0s\u001b[0m 4ms/step - loss: 0.1007 - mae: 0.2666 - rmse: 0.3028 - val_loss: 0.0915 - val_mae: 0.2481 - val_rmse: 0.2895\n",
            "Epoch 16/100\n",
            "\u001b[1m16/16\u001b[0m \u001b[32m━━━━━━━━━━━━━━━━━━━━\u001b[0m\u001b[37m\u001b[0m \u001b[1m0s\u001b[0m 4ms/step - loss: 0.0942 - mae: 0.2720 - rmse: 0.3044 - val_loss: 0.0851 - val_mae: 0.2480 - val_rmse: 0.2894\n",
            "Epoch 17/100\n",
            "\u001b[1m16/16\u001b[0m \u001b[32m━━━━━━━━━━━━━━━━━━━━\u001b[0m\u001b[37m\u001b[0m \u001b[1m0s\u001b[0m 5ms/step - loss: 0.0846 - mae: 0.2579 - rmse: 0.2922 - val_loss: 0.0795 - val_mae: 0.2479 - val_rmse: 0.2894\n",
            "Epoch 18/100\n",
            "\u001b[1m16/16\u001b[0m \u001b[32m━━━━━━━━━━━━━━━━━━━━\u001b[0m\u001b[37m\u001b[0m \u001b[1m0s\u001b[0m 5ms/step - loss: 0.0803 - mae: 0.2628 - rmse: 0.2957 - val_loss: 0.0746 - val_mae: 0.2477 - val_rmse: 0.2894\n",
            "Epoch 19/100\n",
            "\u001b[1m16/16\u001b[0m \u001b[32m━━━━━━━━━━━━━━━━━━━━\u001b[0m\u001b[37m\u001b[0m \u001b[1m0s\u001b[0m 5ms/step - loss: 0.0761 - mae: 0.2637 - rmse: 0.2987 - val_loss: 0.0703 - val_mae: 0.2476 - val_rmse: 0.2894\n",
            "Epoch 20/100\n",
            "\u001b[1m16/16\u001b[0m \u001b[32m━━━━━━━━━━━━━━━━━━━━\u001b[0m\u001b[37m\u001b[0m \u001b[1m0s\u001b[0m 5ms/step - loss: 0.0755 - mae: 0.2727 - rmse: 0.3093 - val_loss: 0.0665 - val_mae: 0.2476 - val_rmse: 0.2894\n",
            "Epoch 21/100\n",
            "\u001b[1m16/16\u001b[0m \u001b[32m━━━━━━━━━━━━━━━━━━━━\u001b[0m\u001b[37m\u001b[0m \u001b[1m0s\u001b[0m 4ms/step - loss: 0.0650 - mae: 0.2523 - rmse: 0.2854 - val_loss: 0.0632 - val_mae: 0.2476 - val_rmse: 0.2894\n",
            "Epoch 22/100\n",
            "\u001b[1m16/16\u001b[0m \u001b[32m━━━━━━━━━━━━━━━━━━━━\u001b[0m\u001b[37m\u001b[0m \u001b[1m0s\u001b[0m 5ms/step - loss: 0.0639 - mae: 0.2581 - rmse: 0.2932 - val_loss: 0.0602 - val_mae: 0.2475 - val_rmse: 0.2893\n",
            "Epoch 23/100\n",
            "\u001b[1m16/16\u001b[0m \u001b[32m━━━━━━━━━━━━━━━━━━━━\u001b[0m\u001b[37m\u001b[0m \u001b[1m0s\u001b[0m 6ms/step - loss: 0.0588 - mae: 0.2510 - rmse: 0.2861 - val_loss: 0.0576 - val_mae: 0.2475 - val_rmse: 0.2892\n",
            "Epoch 24/100\n",
            "\u001b[1m16/16\u001b[0m \u001b[32m━━━━━━━━━━━━━━━━━━━━\u001b[0m\u001b[37m\u001b[0m \u001b[1m0s\u001b[0m 6ms/step - loss: 0.0584 - mae: 0.2533 - rmse: 0.2926 - val_loss: 0.0554 - val_mae: 0.2474 - val_rmse: 0.2892\n",
            "Epoch 25/100\n",
            "\u001b[1m16/16\u001b[0m \u001b[32m━━━━━━━━━━━━━━━━━━━━\u001b[0m\u001b[37m\u001b[0m \u001b[1m0s\u001b[0m 8ms/step - loss: 0.0560 - mae: 0.2566 - rmse: 0.2933 - val_loss: 0.0535 - val_mae: 0.2474 - val_rmse: 0.2892\n",
            "Epoch 26/100\n",
            "\u001b[1m16/16\u001b[0m \u001b[32m━━━━━━━━━━━━━━━━━━━━\u001b[0m\u001b[37m\u001b[0m \u001b[1m0s\u001b[0m 8ms/step - loss: 0.0555 - mae: 0.2601 - rmse: 0.2964 - val_loss: 0.0518 - val_mae: 0.2474 - val_rmse: 0.2893\n",
            "Epoch 27/100\n",
            "\u001b[1m16/16\u001b[0m \u001b[32m━━━━━━━━━━━━━━━━━━━━\u001b[0m\u001b[37m\u001b[0m \u001b[1m0s\u001b[0m 6ms/step - loss: 0.0512 - mae: 0.2499 - rmse: 0.2874 - val_loss: 0.0504 - val_mae: 0.2474 - val_rmse: 0.2893\n",
            "Epoch 28/100\n",
            "\u001b[1m16/16\u001b[0m \u001b[32m━━━━━━━━━━━━━━━━━━━━\u001b[0m\u001b[37m\u001b[0m \u001b[1m0s\u001b[0m 6ms/step - loss: 0.0504 - mae: 0.2515 - rmse: 0.2905 - val_loss: 0.0491 - val_mae: 0.2474 - val_rmse: 0.2892\n",
            "Epoch 29/100\n",
            "\u001b[1m16/16\u001b[0m \u001b[32m━━━━━━━━━━━━━━━━━━━━\u001b[0m\u001b[37m\u001b[0m \u001b[1m0s\u001b[0m 6ms/step - loss: 0.0509 - mae: 0.2614 - rmse: 0.2952 - val_loss: 0.0481 - val_mae: 0.2473 - val_rmse: 0.2893\n",
            "Epoch 30/100\n",
            "\u001b[1m16/16\u001b[0m \u001b[32m━━━━━━━━━━━━━━━━━━━━\u001b[0m\u001b[37m\u001b[0m \u001b[1m0s\u001b[0m 6ms/step - loss: 0.0488 - mae: 0.2540 - rmse: 0.2910 - val_loss: 0.0471 - val_mae: 0.2473 - val_rmse: 0.2893\n",
            "Epoch 31/100\n",
            "\u001b[1m16/16\u001b[0m \u001b[32m━━━━━━━━━━━━━━━━━━━━\u001b[0m\u001b[37m\u001b[0m \u001b[1m0s\u001b[0m 9ms/step - loss: 0.0474 - mae: 0.2535 - rmse: 0.2906 - val_loss: 0.0463 - val_mae: 0.2473 - val_rmse: 0.2892\n",
            "Epoch 32/100\n",
            "\u001b[1m16/16\u001b[0m \u001b[32m━━━━━━━━━━━━━━━━━━━━\u001b[0m\u001b[37m\u001b[0m \u001b[1m0s\u001b[0m 8ms/step - loss: 0.0518 - mae: 0.2752 - rmse: 0.3074 - val_loss: 0.0456 - val_mae: 0.2472 - val_rmse: 0.2892\n",
            "Epoch 33/100\n",
            "\u001b[1m16/16\u001b[0m \u001b[32m━━━━━━━━━━━━━━━━━━━━\u001b[0m\u001b[37m\u001b[0m \u001b[1m0s\u001b[0m 7ms/step - loss: 0.0468 - mae: 0.2598 - rmse: 0.2930 - val_loss: 0.0450 - val_mae: 0.2471 - val_rmse: 0.2893\n",
            "Epoch 34/100\n",
            "\u001b[1m16/16\u001b[0m \u001b[32m━━━━━━━━━━━━━━━━━━━━\u001b[0m\u001b[37m\u001b[0m \u001b[1m0s\u001b[0m 8ms/step - loss: 0.0457 - mae: 0.2548 - rmse: 0.2911 - val_loss: 0.0445 - val_mae: 0.2471 - val_rmse: 0.2893\n",
            "Epoch 35/100\n",
            "\u001b[1m16/16\u001b[0m \u001b[32m━━━━━━━━━━━━━━━━━━━━\u001b[0m\u001b[37m\u001b[0m \u001b[1m0s\u001b[0m 8ms/step - loss: 0.0447 - mae: 0.2540 - rmse: 0.2888 - val_loss: 0.0441 - val_mae: 0.2471 - val_rmse: 0.2892\n",
            "Epoch 36/100\n",
            "\u001b[1m16/16\u001b[0m \u001b[32m━━━━━━━━━━━━━━━━━━━━\u001b[0m\u001b[37m\u001b[0m \u001b[1m0s\u001b[0m 4ms/step - loss: 0.0450 - mae: 0.2542 - rmse: 0.2904 - val_loss: 0.0437 - val_mae: 0.2472 - val_rmse: 0.2892\n",
            "Epoch 37/100\n",
            "\u001b[1m16/16\u001b[0m \u001b[32m━━━━━━━━━━━━━━━━━━━━\u001b[0m\u001b[37m\u001b[0m \u001b[1m0s\u001b[0m 5ms/step - loss: 0.0444 - mae: 0.2550 - rmse: 0.2905 - val_loss: 0.0434 - val_mae: 0.2472 - val_rmse: 0.2891\n",
            "Epoch 38/100\n",
            "\u001b[1m16/16\u001b[0m \u001b[32m━━━━━━━━━━━━━━━━━━━━\u001b[0m\u001b[37m\u001b[0m \u001b[1m0s\u001b[0m 5ms/step - loss: 0.0450 - mae: 0.2557 - rmse: 0.2948 - val_loss: 0.0431 - val_mae: 0.2471 - val_rmse: 0.2892\n",
            "Epoch 39/100\n",
            "\u001b[1m16/16\u001b[0m \u001b[32m━━━━━━━━━━━━━━━━━━━━\u001b[0m\u001b[37m\u001b[0m \u001b[1m0s\u001b[0m 5ms/step - loss: 0.0446 - mae: 0.2577 - rmse: 0.2938 - val_loss: 0.0429 - val_mae: 0.2471 - val_rmse: 0.2892\n",
            "Epoch 40/100\n",
            "\u001b[1m16/16\u001b[0m \u001b[32m━━━━━━━━━━━━━━━━━━━━\u001b[0m\u001b[37m\u001b[0m \u001b[1m0s\u001b[0m 4ms/step - loss: 0.0447 - mae: 0.2587 - rmse: 0.2947 - val_loss: 0.0427 - val_mae: 0.2471 - val_rmse: 0.2892\n",
            "Epoch 41/100\n",
            "\u001b[1m16/16\u001b[0m \u001b[32m━━━━━━━━━━━━━━━━━━━━\u001b[0m\u001b[37m\u001b[0m \u001b[1m0s\u001b[0m 5ms/step - loss: 0.0472 - mae: 0.2681 - rmse: 0.3036 - val_loss: 0.0426 - val_mae: 0.2471 - val_rmse: 0.2892\n",
            "Epoch 42/100\n",
            "\u001b[1m16/16\u001b[0m \u001b[32m━━━━━━━━━━━━━━━━━━━━\u001b[0m\u001b[37m\u001b[0m \u001b[1m0s\u001b[0m 5ms/step - loss: 0.0413 - mae: 0.2471 - rmse: 0.2831 - val_loss: 0.0425 - val_mae: 0.2470 - val_rmse: 0.2892\n",
            "Epoch 43/100\n",
            "\u001b[1m16/16\u001b[0m \u001b[32m━━━━━━━━━━━━━━━━━━━━\u001b[0m\u001b[37m\u001b[0m \u001b[1m0s\u001b[0m 5ms/step - loss: 0.0421 - mae: 0.2511 - rmse: 0.2855 - val_loss: 0.0424 - val_mae: 0.2470 - val_rmse: 0.2892\n",
            "Epoch 44/100\n",
            "\u001b[1m16/16\u001b[0m \u001b[32m━━━━━━━━━━━━━━━━━━━━\u001b[0m\u001b[37m\u001b[0m \u001b[1m0s\u001b[0m 4ms/step - loss: 0.0443 - mae: 0.2607 - rmse: 0.2947 - val_loss: 0.0423 - val_mae: 0.2469 - val_rmse: 0.2892\n",
            "Epoch 45/100\n",
            "\u001b[1m16/16\u001b[0m \u001b[32m━━━━━━━━━━━━━━━━━━━━\u001b[0m\u001b[37m\u001b[0m \u001b[1m0s\u001b[0m 4ms/step - loss: 0.0465 - mae: 0.2622 - rmse: 0.3026 - val_loss: 0.0422 - val_mae: 0.2469 - val_rmse: 0.2893\n",
            "Epoch 46/100\n",
            "\u001b[1m16/16\u001b[0m \u001b[32m━━━━━━━━━━━━━━━━━━━━\u001b[0m\u001b[37m\u001b[0m \u001b[1m0s\u001b[0m 4ms/step - loss: 0.0452 - mae: 0.2620 - rmse: 0.2982 - val_loss: 0.0422 - val_mae: 0.2469 - val_rmse: 0.2893\n",
            "Epoch 47/100\n",
            "\u001b[1m16/16\u001b[0m \u001b[32m━━━━━━━━━━━━━━━━━━━━\u001b[0m\u001b[37m\u001b[0m \u001b[1m0s\u001b[0m 4ms/step - loss: 0.0434 - mae: 0.2592 - rmse: 0.2926 - val_loss: 0.0421 - val_mae: 0.2469 - val_rmse: 0.2893\n",
            "Epoch 48/100\n",
            "\u001b[1m16/16\u001b[0m \u001b[32m━━━━━━━━━━━━━━━━━━━━\u001b[0m\u001b[37m\u001b[0m \u001b[1m0s\u001b[0m 4ms/step - loss: 0.0456 - mae: 0.2675 - rmse: 0.3005 - val_loss: 0.0421 - val_mae: 0.2469 - val_rmse: 0.2893\n",
            "Epoch 49/100\n",
            "\u001b[1m16/16\u001b[0m \u001b[32m━━━━━━━━━━━━━━━━━━━━\u001b[0m\u001b[37m\u001b[0m \u001b[1m0s\u001b[0m 4ms/step - loss: 0.0460 - mae: 0.2642 - rmse: 0.3011 - val_loss: 0.0420 - val_mae: 0.2469 - val_rmse: 0.2893\n",
            "Epoch 50/100\n",
            "\u001b[1m16/16\u001b[0m \u001b[32m━━━━━━━━━━━━━━━━━━━━\u001b[0m\u001b[37m\u001b[0m \u001b[1m0s\u001b[0m 5ms/step - loss: 0.0449 - mae: 0.2602 - rmse: 0.2985 - val_loss: 0.0420 - val_mae: 0.2469 - val_rmse: 0.2893\n",
            "Epoch 51/100\n",
            "\u001b[1m16/16\u001b[0m \u001b[32m━━━━━━━━━━━━━━━━━━━━\u001b[0m\u001b[37m\u001b[0m \u001b[1m0s\u001b[0m 4ms/step - loss: 0.0459 - mae: 0.2650 - rmse: 0.3018 - val_loss: 0.0420 - val_mae: 0.2469 - val_rmse: 0.2893\n",
            "Epoch 52/100\n",
            "\u001b[1m16/16\u001b[0m \u001b[32m━━━━━━━━━━━━━━━━━━━━\u001b[0m\u001b[37m\u001b[0m \u001b[1m0s\u001b[0m 5ms/step - loss: 0.0447 - mae: 0.2598 - rmse: 0.2972 - val_loss: 0.0419 - val_mae: 0.2469 - val_rmse: 0.2892\n",
            "Epoch 53/100\n",
            "\u001b[1m16/16\u001b[0m \u001b[32m━━━━━━━━━━━━━━━━━━━━\u001b[0m\u001b[37m\u001b[0m \u001b[1m0s\u001b[0m 4ms/step - loss: 0.0426 - mae: 0.2478 - rmse: 0.2898 - val_loss: 0.0419 - val_mae: 0.2469 - val_rmse: 0.2892\n",
            "Epoch 54/100\n",
            "\u001b[1m16/16\u001b[0m \u001b[32m━━━━━━━━━━━━━━━━━━━━\u001b[0m\u001b[37m\u001b[0m \u001b[1m0s\u001b[0m 6ms/step - loss: 0.0448 - mae: 0.2623 - rmse: 0.2968 - val_loss: 0.0419 - val_mae: 0.2470 - val_rmse: 0.2892\n",
            "Epoch 55/100\n",
            "\u001b[1m16/16\u001b[0m \u001b[32m━━━━━━━━━━━━━━━━━━━━\u001b[0m\u001b[37m\u001b[0m \u001b[1m0s\u001b[0m 5ms/step - loss: 0.0436 - mae: 0.2572 - rmse: 0.2948 - val_loss: 0.0419 - val_mae: 0.2470 - val_rmse: 0.2892\n",
            "Epoch 56/100\n",
            "\u001b[1m16/16\u001b[0m \u001b[32m━━━━━━━━━━━━━━━━━━━━\u001b[0m\u001b[37m\u001b[0m \u001b[1m0s\u001b[0m 4ms/step - loss: 0.0440 - mae: 0.2576 - rmse: 0.2949 - val_loss: 0.0419 - val_mae: 0.2469 - val_rmse: 0.2893\n",
            "Epoch 57/100\n",
            "\u001b[1m16/16\u001b[0m \u001b[32m━━━━━━━━━━━━━━━━━━━━\u001b[0m\u001b[37m\u001b[0m \u001b[1m0s\u001b[0m 4ms/step - loss: 0.0473 - mae: 0.2700 - rmse: 0.3061 - val_loss: 0.0419 - val_mae: 0.2469 - val_rmse: 0.2893\n",
            "Epoch 58/100\n",
            "\u001b[1m16/16\u001b[0m \u001b[32m━━━━━━━━━━━━━━━━━━━━\u001b[0m\u001b[37m\u001b[0m \u001b[1m0s\u001b[0m 4ms/step - loss: 0.0449 - mae: 0.2627 - rmse: 0.2994 - val_loss: 0.0419 - val_mae: 0.2469 - val_rmse: 0.2893\n",
            "Epoch 59/100\n",
            "\u001b[1m16/16\u001b[0m \u001b[32m━━━━━━━━━━━━━━━━━━━━\u001b[0m\u001b[37m\u001b[0m \u001b[1m0s\u001b[0m 4ms/step - loss: 0.0449 - mae: 0.2647 - rmse: 0.2986 - val_loss: 0.0419 - val_mae: 0.2469 - val_rmse: 0.2893\n",
            "Epoch 60/100\n",
            "\u001b[1m16/16\u001b[0m \u001b[32m━━━━━━━━━━━━━━━━━━━━\u001b[0m\u001b[37m\u001b[0m \u001b[1m0s\u001b[0m 4ms/step - loss: 0.0469 - mae: 0.2712 - rmse: 0.3052 - val_loss: 0.0419 - val_mae: 0.2469 - val_rmse: 0.2892\n",
            "Epoch 61/100\n",
            "\u001b[1m16/16\u001b[0m \u001b[32m━━━━━━━━━━━━━━━━━━━━\u001b[0m\u001b[37m\u001b[0m \u001b[1m0s\u001b[0m 5ms/step - loss: 0.0421 - mae: 0.2535 - rmse: 0.2894 - val_loss: 0.0419 - val_mae: 0.2469 - val_rmse: 0.2892\n",
            "Epoch 62/100\n",
            "\u001b[1m16/16\u001b[0m \u001b[32m━━━━━━━━━━━━━━━━━━━━\u001b[0m\u001b[37m\u001b[0m \u001b[1m0s\u001b[0m 5ms/step - loss: 0.0445 - mae: 0.2600 - rmse: 0.2963 - val_loss: 0.0419 - val_mae: 0.2469 - val_rmse: 0.2893\n",
            "Epoch 63/100\n",
            "\u001b[1m16/16\u001b[0m \u001b[32m━━━━━━━━━━━━━━━━━━━━\u001b[0m\u001b[37m\u001b[0m \u001b[1m0s\u001b[0m 4ms/step - loss: 0.0442 - mae: 0.2617 - rmse: 0.2960 - val_loss: 0.0419 - val_mae: 0.2469 - val_rmse: 0.2892\n",
            "Epoch 64/100\n",
            "\u001b[1m16/16\u001b[0m \u001b[32m━━━━━━━━━━━━━━━━━━━━\u001b[0m\u001b[37m\u001b[0m \u001b[1m0s\u001b[0m 4ms/step - loss: 0.0435 - mae: 0.2574 - rmse: 0.2930 - val_loss: 0.0419 - val_mae: 0.2470 - val_rmse: 0.2892\n",
            "Epoch 65/100\n",
            "\u001b[1m16/16\u001b[0m \u001b[32m━━━━━━━━━━━━━━━━━━━━\u001b[0m\u001b[37m\u001b[0m \u001b[1m0s\u001b[0m 5ms/step - loss: 0.0433 - mae: 0.2591 - rmse: 0.2930 - val_loss: 0.0419 - val_mae: 0.2470 - val_rmse: 0.2892\n",
            "Epoch 66/100\n",
            "\u001b[1m16/16\u001b[0m \u001b[32m━━━━━━━━━━━━━━━━━━━━\u001b[0m\u001b[37m\u001b[0m \u001b[1m0s\u001b[0m 4ms/step - loss: 0.0445 - mae: 0.2592 - rmse: 0.2972 - val_loss: 0.0419 - val_mae: 0.2469 - val_rmse: 0.2893\n",
            "Epoch 67/100\n",
            "\u001b[1m16/16\u001b[0m \u001b[32m━━━━━━━━━━━━━━━━━━━━\u001b[0m\u001b[37m\u001b[0m \u001b[1m0s\u001b[0m 5ms/step - loss: 0.0455 - mae: 0.2655 - rmse: 0.3000 - val_loss: 0.0419 - val_mae: 0.2469 - val_rmse: 0.2892\n",
            "Epoch 68/100\n",
            "\u001b[1m16/16\u001b[0m \u001b[32m━━━━━━━━━━━━━━━━━━━━\u001b[0m\u001b[37m\u001b[0m \u001b[1m0s\u001b[0m 4ms/step - loss: 0.0431 - mae: 0.2606 - rmse: 0.2914 - val_loss: 0.0419 - val_mae: 0.2470 - val_rmse: 0.2892\n",
            "Epoch 69/100\n",
            "\u001b[1m16/16\u001b[0m \u001b[32m━━━━━━━━━━━━━━━━━━━━\u001b[0m\u001b[37m\u001b[0m \u001b[1m0s\u001b[0m 4ms/step - loss: 0.0422 - mae: 0.2516 - rmse: 0.2885 - val_loss: 0.0419 - val_mae: 0.2469 - val_rmse: 0.2892\n",
            "Epoch 70/100\n",
            "\u001b[1m16/16\u001b[0m \u001b[32m━━━━━━━━━━━━━━━━━━━━\u001b[0m\u001b[37m\u001b[0m \u001b[1m0s\u001b[0m 6ms/step - loss: 0.0419 - mae: 0.2529 - rmse: 0.2886 - val_loss: 0.0419 - val_mae: 0.2470 - val_rmse: 0.2892\n",
            "Epoch 71/100\n",
            "\u001b[1m16/16\u001b[0m \u001b[32m━━━━━━━━━━━━━━━━━━━━\u001b[0m\u001b[37m\u001b[0m \u001b[1m0s\u001b[0m 5ms/step - loss: 0.0484 - mae: 0.2762 - rmse: 0.3103 - val_loss: 0.0419 - val_mae: 0.2470 - val_rmse: 0.2892\n",
            "Epoch 72/100\n",
            "\u001b[1m16/16\u001b[0m \u001b[32m━━━━━━━━━━━━━━━━━━━━\u001b[0m\u001b[37m\u001b[0m \u001b[1m0s\u001b[0m 5ms/step - loss: 0.0413 - mae: 0.2489 - rmse: 0.2861 - val_loss: 0.0419 - val_mae: 0.2470 - val_rmse: 0.2892\n",
            "Epoch 73/100\n",
            "\u001b[1m16/16\u001b[0m \u001b[32m━━━━━━━━━━━━━━━━━━━━\u001b[0m\u001b[37m\u001b[0m \u001b[1m0s\u001b[0m 6ms/step - loss: 0.0431 - mae: 0.2589 - rmse: 0.2930 - val_loss: 0.0419 - val_mae: 0.2470 - val_rmse: 0.2892\n",
            "Epoch 74/100\n",
            "\u001b[1m16/16\u001b[0m \u001b[32m━━━━━━━━━━━━━━━━━━━━\u001b[0m\u001b[37m\u001b[0m \u001b[1m0s\u001b[0m 4ms/step - loss: 0.0475 - mae: 0.2721 - rmse: 0.3064 - val_loss: 0.0419 - val_mae: 0.2470 - val_rmse: 0.2892\n",
            "Epoch 75/100\n",
            "\u001b[1m16/16\u001b[0m \u001b[32m━━━━━━━━━━━━━━━━━━━━\u001b[0m\u001b[37m\u001b[0m \u001b[1m0s\u001b[0m 4ms/step - loss: 0.0471 - mae: 0.2712 - rmse: 0.3048 - val_loss: 0.0419 - val_mae: 0.2469 - val_rmse: 0.2892\n",
            "Epoch 76/100\n",
            "\u001b[1m16/16\u001b[0m \u001b[32m━━━━━━━━━━━━━━━━━━━━\u001b[0m\u001b[37m\u001b[0m \u001b[1m0s\u001b[0m 4ms/step - loss: 0.0424 - mae: 0.2546 - rmse: 0.2904 - val_loss: 0.0419 - val_mae: 0.2469 - val_rmse: 0.2892\n",
            "Epoch 77/100\n",
            "\u001b[1m16/16\u001b[0m \u001b[32m━━━━━━━━━━━━━━━━━━━━\u001b[0m\u001b[37m\u001b[0m \u001b[1m0s\u001b[0m 4ms/step - loss: 0.0441 - mae: 0.2570 - rmse: 0.2954 - val_loss: 0.0419 - val_mae: 0.2469 - val_rmse: 0.2892\n",
            "Epoch 78/100\n",
            "\u001b[1m16/16\u001b[0m \u001b[32m━━━━━━━━━━━━━━━━━━━━\u001b[0m\u001b[37m\u001b[0m \u001b[1m0s\u001b[0m 5ms/step - loss: 0.0461 - mae: 0.2689 - rmse: 0.3025 - val_loss: 0.0419 - val_mae: 0.2469 - val_rmse: 0.2892\n",
            "Epoch 79/100\n",
            "\u001b[1m16/16\u001b[0m \u001b[32m━━━━━━━━━━━━━━━━━━━━\u001b[0m\u001b[37m\u001b[0m \u001b[1m0s\u001b[0m 6ms/step - loss: 0.0444 - mae: 0.2597 - rmse: 0.2974 - val_loss: 0.0419 - val_mae: 0.2469 - val_rmse: 0.2893\n",
            "Epoch 80/100\n",
            "\u001b[1m16/16\u001b[0m \u001b[32m━━━━━━━━━━━━━━━━━━━━\u001b[0m\u001b[37m\u001b[0m \u001b[1m0s\u001b[0m 5ms/step - loss: 0.0425 - mae: 0.2535 - rmse: 0.2898 - val_loss: 0.0419 - val_mae: 0.2469 - val_rmse: 0.2892\n",
            "Epoch 81/100\n",
            "\u001b[1m16/16\u001b[0m \u001b[32m━━━━━━━━━━━━━━━━━━━━\u001b[0m\u001b[37m\u001b[0m \u001b[1m0s\u001b[0m 4ms/step - loss: 0.0434 - mae: 0.2575 - rmse: 0.2930 - val_loss: 0.0419 - val_mae: 0.2469 - val_rmse: 0.2893\n",
            "Epoch 82/100\n",
            "\u001b[1m16/16\u001b[0m \u001b[32m━━━━━━━━━━━━━━━━━━━━\u001b[0m\u001b[37m\u001b[0m \u001b[1m0s\u001b[0m 4ms/step - loss: 0.0479 - mae: 0.2749 - rmse: 0.3083 - val_loss: 0.0419 - val_mae: 0.2469 - val_rmse: 0.2893\n"
          ]
        }
      ]
    },
    {
      "cell_type": "code",
      "source": [
        "# Display summary model\n",
        "model.summary()"
      ],
      "metadata": {
        "colab": {
          "base_uri": "https://localhost:8080/",
          "height": 323
        },
        "id": "0ACLAyF-hUIQ",
        "outputId": "350c6429-2757-4ade-9981-abc7f8978196"
      },
      "execution_count": null,
      "outputs": [
        {
          "output_type": "display_data",
          "data": {
            "text/plain": [
              "\u001b[1mModel: \"sequential_2\"\u001b[0m\n"
            ],
            "text/html": [
              "<pre style=\"white-space:pre;overflow-x:auto;line-height:normal;font-family:Menlo,'DejaVu Sans Mono',consolas,'Courier New',monospace\"><span style=\"font-weight: bold\">Model: \"sequential_2\"</span>\n",
              "</pre>\n"
            ]
          },
          "metadata": {}
        },
        {
          "output_type": "display_data",
          "data": {
            "text/plain": [
              "┏━━━━━━━━━━━━━━━━━━━━━━━━━━━━━━━━━━━━━━┳━━━━━━━━━━━━━━━━━━━━━━━━━━━━━┳━━━━━━━━━━━━━━━━━┓\n",
              "┃\u001b[1m \u001b[0m\u001b[1mLayer (type)                        \u001b[0m\u001b[1m \u001b[0m┃\u001b[1m \u001b[0m\u001b[1mOutput Shape               \u001b[0m\u001b[1m \u001b[0m┃\u001b[1m \u001b[0m\u001b[1m        Param #\u001b[0m\u001b[1m \u001b[0m┃\n",
              "┡━━━━━━━━━━━━━━━━━━━━━━━━━━━━━━━━━━━━━━╇━━━━━━━━━━━━━━━━━━━━━━━━━━━━━╇━━━━━━━━━━━━━━━━━┩\n",
              "│ dense_6 (\u001b[38;5;33mDense\u001b[0m)                      │ (\u001b[38;5;45mNone\u001b[0m, \u001b[38;5;34m20\u001b[0m)                  │             \u001b[38;5;34m360\u001b[0m │\n",
              "├──────────────────────────────────────┼─────────────────────────────┼─────────────────┤\n",
              "│ dropout_3 (\u001b[38;5;33mDropout\u001b[0m)                  │ (\u001b[38;5;45mNone\u001b[0m, \u001b[38;5;34m20\u001b[0m)                  │               \u001b[38;5;34m0\u001b[0m │\n",
              "├──────────────────────────────────────┼─────────────────────────────┼─────────────────┤\n",
              "│ dense_7 (\u001b[38;5;33mDense\u001b[0m)                      │ (\u001b[38;5;45mNone\u001b[0m, \u001b[38;5;34m10\u001b[0m)                  │             \u001b[38;5;34m210\u001b[0m │\n",
              "├──────────────────────────────────────┼─────────────────────────────┼─────────────────┤\n",
              "│ dropout_4 (\u001b[38;5;33mDropout\u001b[0m)                  │ (\u001b[38;5;45mNone\u001b[0m, \u001b[38;5;34m10\u001b[0m)                  │               \u001b[38;5;34m0\u001b[0m │\n",
              "├──────────────────────────────────────┼─────────────────────────────┼─────────────────┤\n",
              "│ dense_8 (\u001b[38;5;33mDense\u001b[0m)                      │ (\u001b[38;5;45mNone\u001b[0m, \u001b[38;5;34m1\u001b[0m)                   │              \u001b[38;5;34m11\u001b[0m │\n",
              "└──────────────────────────────────────┴─────────────────────────────┴─────────────────┘\n"
            ],
            "text/html": [
              "<pre style=\"white-space:pre;overflow-x:auto;line-height:normal;font-family:Menlo,'DejaVu Sans Mono',consolas,'Courier New',monospace\">┏━━━━━━━━━━━━━━━━━━━━━━━━━━━━━━━━━━━━━━┳━━━━━━━━━━━━━━━━━━━━━━━━━━━━━┳━━━━━━━━━━━━━━━━━┓\n",
              "┃<span style=\"font-weight: bold\"> Layer (type)                         </span>┃<span style=\"font-weight: bold\"> Output Shape                </span>┃<span style=\"font-weight: bold\">         Param # </span>┃\n",
              "┡━━━━━━━━━━━━━━━━━━━━━━━━━━━━━━━━━━━━━━╇━━━━━━━━━━━━━━━━━━━━━━━━━━━━━╇━━━━━━━━━━━━━━━━━┩\n",
              "│ dense_6 (<span style=\"color: #0087ff; text-decoration-color: #0087ff\">Dense</span>)                      │ (<span style=\"color: #00d7ff; text-decoration-color: #00d7ff\">None</span>, <span style=\"color: #00af00; text-decoration-color: #00af00\">20</span>)                  │             <span style=\"color: #00af00; text-decoration-color: #00af00\">360</span> │\n",
              "├──────────────────────────────────────┼─────────────────────────────┼─────────────────┤\n",
              "│ dropout_3 (<span style=\"color: #0087ff; text-decoration-color: #0087ff\">Dropout</span>)                  │ (<span style=\"color: #00d7ff; text-decoration-color: #00d7ff\">None</span>, <span style=\"color: #00af00; text-decoration-color: #00af00\">20</span>)                  │               <span style=\"color: #00af00; text-decoration-color: #00af00\">0</span> │\n",
              "├──────────────────────────────────────┼─────────────────────────────┼─────────────────┤\n",
              "│ dense_7 (<span style=\"color: #0087ff; text-decoration-color: #0087ff\">Dense</span>)                      │ (<span style=\"color: #00d7ff; text-decoration-color: #00d7ff\">None</span>, <span style=\"color: #00af00; text-decoration-color: #00af00\">10</span>)                  │             <span style=\"color: #00af00; text-decoration-color: #00af00\">210</span> │\n",
              "├──────────────────────────────────────┼─────────────────────────────┼─────────────────┤\n",
              "│ dropout_4 (<span style=\"color: #0087ff; text-decoration-color: #0087ff\">Dropout</span>)                  │ (<span style=\"color: #00d7ff; text-decoration-color: #00d7ff\">None</span>, <span style=\"color: #00af00; text-decoration-color: #00af00\">10</span>)                  │               <span style=\"color: #00af00; text-decoration-color: #00af00\">0</span> │\n",
              "├──────────────────────────────────────┼─────────────────────────────┼─────────────────┤\n",
              "│ dense_8 (<span style=\"color: #0087ff; text-decoration-color: #0087ff\">Dense</span>)                      │ (<span style=\"color: #00d7ff; text-decoration-color: #00d7ff\">None</span>, <span style=\"color: #00af00; text-decoration-color: #00af00\">1</span>)                   │              <span style=\"color: #00af00; text-decoration-color: #00af00\">11</span> │\n",
              "└──────────────────────────────────────┴─────────────────────────────┴─────────────────┘\n",
              "</pre>\n"
            ]
          },
          "metadata": {}
        },
        {
          "output_type": "display_data",
          "data": {
            "text/plain": [
              "\u001b[1m Total params: \u001b[0m\u001b[38;5;34m1,745\u001b[0m (6.82 KB)\n"
            ],
            "text/html": [
              "<pre style=\"white-space:pre;overflow-x:auto;line-height:normal;font-family:Menlo,'DejaVu Sans Mono',consolas,'Courier New',monospace\"><span style=\"font-weight: bold\"> Total params: </span><span style=\"color: #00af00; text-decoration-color: #00af00\">1,745</span> (6.82 KB)\n",
              "</pre>\n"
            ]
          },
          "metadata": {}
        },
        {
          "output_type": "display_data",
          "data": {
            "text/plain": [
              "\u001b[1m Trainable params: \u001b[0m\u001b[38;5;34m581\u001b[0m (2.27 KB)\n"
            ],
            "text/html": [
              "<pre style=\"white-space:pre;overflow-x:auto;line-height:normal;font-family:Menlo,'DejaVu Sans Mono',consolas,'Courier New',monospace\"><span style=\"font-weight: bold\"> Trainable params: </span><span style=\"color: #00af00; text-decoration-color: #00af00\">581</span> (2.27 KB)\n",
              "</pre>\n"
            ]
          },
          "metadata": {}
        },
        {
          "output_type": "display_data",
          "data": {
            "text/plain": [
              "\u001b[1m Non-trainable params: \u001b[0m\u001b[38;5;34m0\u001b[0m (0.00 B)\n"
            ],
            "text/html": [
              "<pre style=\"white-space:pre;overflow-x:auto;line-height:normal;font-family:Menlo,'DejaVu Sans Mono',consolas,'Courier New',monospace\"><span style=\"font-weight: bold\"> Non-trainable params: </span><span style=\"color: #00af00; text-decoration-color: #00af00\">0</span> (0.00 B)\n",
              "</pre>\n"
            ]
          },
          "metadata": {}
        },
        {
          "output_type": "display_data",
          "data": {
            "text/plain": [
              "\u001b[1m Optimizer params: \u001b[0m\u001b[38;5;34m1,164\u001b[0m (4.55 KB)\n"
            ],
            "text/html": [
              "<pre style=\"white-space:pre;overflow-x:auto;line-height:normal;font-family:Menlo,'DejaVu Sans Mono',consolas,'Courier New',monospace\"><span style=\"font-weight: bold\"> Optimizer params: </span><span style=\"color: #00af00; text-decoration-color: #00af00\">1,164</span> (4.55 KB)\n",
              "</pre>\n"
            ]
          },
          "metadata": {}
        }
      ]
    },
    {
      "cell_type": "code",
      "source": [
        "# Plot training and validation loss\n",
        "plt.figure(figsize=(10, 5))\n",
        "plt.plot(history.history['loss'], label='Training Loss')\n",
        "plt.plot(history.history['val_loss'], label='Validation Loss')\n",
        "plt.title('Model Loss')\n",
        "plt.xlabel('Epochs')\n",
        "plt.ylabel('Loss')\n",
        "plt.legend()\n",
        "plt.show()\n",
        "\n",
        "# Plot training and validation RMSE\n",
        "plt.figure(figsize=(10, 5))\n",
        "plt.plot(history.history['rmse'], label='Training RMSE')\n",
        "plt.plot(history.history['val_rmse'], label='Validation RMSE')\n",
        "plt.title('Model RMSE')\n",
        "plt.xlabel('Epochs')\n",
        "plt.ylabel('RMSE')\n",
        "plt.legend()\n",
        "plt.show()"
      ],
      "metadata": {
        "colab": {
          "base_uri": "https://localhost:8080/",
          "height": 957
        },
        "id": "y4GxdLbthW8Q",
        "outputId": "abe0526b-a7cb-42d2-e1df-3a408809c163"
      },
      "execution_count": null,
      "outputs": [
        {
          "output_type": "display_data",
          "data": {
            "text/plain": [
              "<Figure size 1000x500 with 1 Axes>"
            ],
            "image/png": "[encoded data removed]"
          },
          "metadata": {}
        },
        {
          "output_type": "display_data",
          "data": {
            "text/plain": [
              "<Figure size 1000x500 with 1 Axes>"
            ],
            "image/png": "[encoded data removed]"
          },
          "metadata": {}
        }
      ]
    },
    {
      "cell_type": "markdown",
      "source": [
        "## Fungsi untuk preproses input dan menampilkan output rekomendasi berdasarkan filter"
      ],
      "metadata": {
        "id": "lU-o9ajtPWIW"
      }
    },
    {
      "cell_type": "code",
      "source": [
        "# fungsi untuk mengolah input agar format sesuai dengan model\n",
        "def preprocess_user_input(user_input):\n",
        "    # Buat DataFrame dari input pengguna\n",
        "    user_df = pd.DataFrame([{\n",
        "        \"price_wna\": user_input[\"max_price\"],\n",
        "        \"rating\": user_input[\"min_rating\"]\n",
        "    }])\n",
        "\n",
        "    # Normalisasi input pengguna menggunakan scaler\n",
        "    normalized_input = scaler.transform(user_df)\n",
        "\n",
        "    # Encode kategori dan kota\n",
        "    user_category = encoder_category.transform([[user_input['category']]])\n",
        "    user_city = encoder_city.transform([[user_input['city']]])\n",
        "\n",
        "    # Gabungkan semua fitur\n",
        "    user_vector = np.hstack((user_category, user_city, normalized_input))\n",
        "\n",
        "    return user_vector\n"
      ],
      "metadata": {
        "id": "_HxqKK8blTZ4"
      },
      "execution_count": null,
      "outputs": []
    },
    {
      "cell_type": "code",
      "source": [
        "# fungsi untuk menampilkan top 5 rekomendasi berdasarkan input user\n",
        "def recommend(user_input, top_n=5):\n",
        "    # Preproses input pengguna\n",
        "    user_input_vector = preprocess_user_input(user_input)\n",
        "\n",
        "    # Prediksi score untuk masing-masing data\n",
        "    scores = model.predict(X)\n",
        "    data['score'] = scores.flatten()\n",
        "\n",
        "    # Normalisasi nilai filter dari input pengguna\n",
        "    user_df = pd.DataFrame([{\n",
        "        \"price_wna\": user_input[\"max_price\"],\n",
        "        \"rating\": user_input[\"min_rating\"]\n",
        "    }])\n",
        "    normalized_input = scaler.transform(user_df)\n",
        "    max_price_scaled, min_rating_scaled = normalized_input[0]\n",
        "\n",
        "    # Filter data berdasarkan kriteria pengguna\n",
        "    # Cek apakah kolom 'address' dan 'google_maps' ada sebelum difilter\n",
        "    if 'address' in data.columns and 'google_maps' in data.columns:\n",
        "        filtered_data = data[\n",
        "            (data['rating'] >= min_rating_scaled) &\n",
        "            (data['price_wna'] <= max_price_scaled) &\n",
        "            (data['city'] == user_input['city']) &  # Filter berdasarkan kota\n",
        "            (data['category'] == user_input['category']) & # Filter berdasarkan kategori\n",
        "            (data['address'].notna()) & (data['google_maps'].notna())  # Filter data kosong\n",
        "        ]\n",
        "    else:\n",
        "        # Jika kolom tidak ada, tampilkan warning\n",
        "        print(\"Warning: 'address' or 'google_maps' column not found in data. Filtering without them.\")\n",
        "        filtered_data = data[\n",
        "            (data['rating'] >= min_rating_scaled) &\n",
        "            (data['price_wna'] <= max_price_scaled) &\n",
        "            (data['city'] == user_input['city']) &  # Filter berdasarkan kota\n",
        "            (data['category'] == user_input['category']) # Filter berdasarkan kategori\n",
        "        ]\n",
        "\n",
        "\n",
        "    # Kembalikan nilai rating dan price_wna ke skala asli\n",
        "    if not filtered_data.empty:\n",
        "        filtered_data.loc[:, ['price_wna', 'rating']] = scaler.inverse_transform(\n",
        "            filtered_data[['price_wna', 'rating']]\n",
        "        )\n",
        "\n",
        "    # Ambil rekomendasi top-N\n",
        "    if not filtered_data.empty:\n",
        "        recommendations = filtered_data.nlargest(top_n, 'score')\n",
        "    else:\n",
        "        print(\"No recommendations found based on the given criteria.\")\n",
        "        recommendations = pd.DataFrame()  # DataFrame kosong jika tidak ada rekomendasi\n",
        "\n",
        "    # Cek jika required columns ada di recommendations\n",
        "    required_columns = ['name', 'rating', 'price_wna', 'city', 'category', 'address', 'google_maps']\n",
        "    available_columns = recommendations.columns.tolist()\n",
        "\n",
        "    # Pilih kolom yang ada saja\n",
        "    selected_columns = [col for col in required_columns if col in available_columns]\n",
        "\n",
        "    return recommendations[selected_columns]"
      ],
      "metadata": {
        "id": "l-onA1Qm3Rev"
      },
      "execution_count": null,
      "outputs": []
    },
    {
      "cell_type": "markdown",
      "source": [
        "## Penggunaan input untuk rekomendasi berdasarkan filter"
      ],
      "metadata": {
        "id": "j7ftIkGCPmcy"
      }
    },
    {
      "cell_type": "code",
      "source": [
        "# Input dari pengguna\n",
        "user_input = {\n",
        "    \"category\": input(\"Enter the category of destination (Beach/Tourist attraction/Museum): \"),       # Contoh: \"Beach\"\n",
        "    \"city\": input(\"Enter the city you want to go to : \"),            # Contoh: \"Denpasar\"\n",
        "    \"min_rating\": float(input(\"Enter the minimum rating (0.0-5.0): \")),  # Contoh: 4.0\n",
        "    \"max_price\": float(input(\"Enter the maximum ticket price (IDR) : \"))  # Contoh: 50000\n",
        "}\n",
        "\n",
        "# Tampilkan rekomendasi\n",
        "top_5_recommendations1 = recommend(user_input)\n",
        "print(top_5_recommendations1)"
      ],
      "metadata": {
        "colab": {
          "base_uri": "https://localhost:8080/"
        },
        "id": "RgOPP0CElcYU",
        "outputId": "25fc9837-336a-469c-f6ef-a6dfcc5f65e1"
      },
      "execution_count": null,
      "outputs": [
        {
          "output_type": "stream",
          "name": "stdout",
          "text": [
            "Enter the category of destination (Beach/Tourist attraction/Museum): Tourist attraction\n",
            "Enter the city you want to go to : Badung\n",
            "Enter the minimum rating (0.0-5.0): 4.5\n",
            "Enter the maximum ticket price (IDR) : 40000\n",
            "\u001b[1m 1/10\u001b[0m \u001b[32m━━\u001b[0m\u001b[37m━━━━━━━━━━━━━━━━━━\u001b[0m \u001b[1m0s\u001b[0m 86ms/step"
          ]
        },
        {
          "output_type": "stream",
          "name": "stderr",
          "text": [
            "/usr/local/lib/python3.10/dist-packages/sklearn/base.py:493: UserWarning: X does not have valid feature names, but OneHotEncoder was fitted with feature names\n",
            "  warnings.warn(\n",
            "/usr/local/lib/python3.10/dist-packages/sklearn/base.py:493: UserWarning: X does not have valid feature names, but OneHotEncoder was fitted with feature names\n",
            "  warnings.warn(\n"
          ]
        },
        {
          "output_type": "stream",
          "name": "stdout",
          "text": [
            "\u001b[1m10/10\u001b[0m \u001b[32m━━━━━━━━━━━━━━━━━━━━\u001b[0m\u001b[37m\u001b[0m \u001b[1m0s\u001b[0m 10ms/step\n",
            "                                    name  rating     price_wna    city  \\\n",
            "27                              5GX Bali     4.7  34473.856209  Badung   \n",
            "28   Pandora Experience Escape Room Bali     4.7  34473.856209  Badung   \n",
            "128                          Geger Beach     4.7  34473.856209  Badung   \n",
            "131                      Cemongkak Beach     4.7  34473.856209  Badung   \n",
            "194    Sorrento Mediterranean Restaurant     4.7  34473.856209  Badung   \n",
            "\n",
            "               category                           address  \\\n",
            "27   Tourist attraction  Jalan Legian No.99, Legian, Kuta   \n",
            "28   Tourist attraction              Jl. Dewi Sri No.45 D   \n",
            "128  Tourist attraction                          56MG+RFQ   \n",
            "131  Tourist attraction                                Â·   \n",
            "194  Tourist attraction          ITDC Lot 1, Jl. Nusa Dua   \n",
            "\n",
            "                                           google_maps  \n",
            "27   https://www.google.com/maps/place/5GX+Bali/dat...  \n",
            "28   https://www.google.com/maps/place/Pandora+Expe...  \n",
            "128  https://www.google.com/maps/place/Geger+Beach/...  \n",
            "131  https://www.google.com/maps/place/Cemongkak+Be...  \n",
            "194  https://www.google.com/maps/place/Sorrento+Med...  \n"
          ]
        }
      ]
    },
    {
      "cell_type": "markdown",
      "source": [
        "## Fungsi untuk rekomendasi berdasarkan wisata yang sebelumnya dikunjungi"
      ],
      "metadata": {
        "id": "K2O_LAESPoJj"
      }
    },
    {
      "cell_type": "code",
      "source": [
        "# fungsi untuk rekomendasi berdasarkan wisata yang telah dikunjungi\n",
        "def recommend_similar_wisata(wisata_name, city_filter=None, max_price=None, top_n=5):\n",
        "    # Pastikan nama tempat wisata ada dalam data\n",
        "    if wisata_name not in data['name'].values:\n",
        "        print(f\"Tempat wisata '{wisata_name}' tidak ditemukan dalam data.\")\n",
        "        return pd.DataFrame()\n",
        "\n",
        "    # Pilih fitur yang digunakan untuk perhitungan similarity\n",
        "    features = np.hstack((\n",
        "        encoded_category,\n",
        "        encoded_city,\n",
        "        data[['price_wna', 'rating']].values\n",
        "    ))\n",
        "\n",
        "    # Ambil indeks tempat wisata yang diminta\n",
        "    wisata_idx = data[data['name'] == wisata_name].index[0]\n",
        "\n",
        "    # Hitung kesamaan menggunakan cosine similarity antara tempat wisata input dengan semua tempat wisata lainnya\n",
        "    similarity_scores = cosine_similarity(features[wisata_idx].reshape(1, -1), features).flatten()\n",
        "\n",
        "    # Tambahkan skor kesamaan ke dalam DataFrame\n",
        "    data['similarity'] = similarity_scores\n",
        "\n",
        "    # Ubah tipe data max_price ke float jika tidak kosong\n",
        "    if max_price is not None:\n",
        "        max_price = float(max_price)\n",
        "\n",
        "    # Filter data jika ada city_filter atau max_price\n",
        "    filtered_data = data[data['name'] != wisata_name]\n",
        "    if city_filter:\n",
        "        filtered_data = filtered_data[filtered_data['city'] == city_filter]\n",
        "    if max_price is not None:\n",
        "        # Normalisasi max_price untuk filter\n",
        "        max_price_scaled = scaler.transform([[max_price, 0]])[0][0]\n",
        "        filtered_data = filtered_data[filtered_data['price_wna'] <= max_price_scaled]\n",
        "\n",
        "    # Kembalikan nilai rating dan price_wna ke skala aslinya\n",
        "    if not filtered_data.empty:\n",
        "        filtered_data.loc[:, ['price_wna', 'rating']] = scaler.inverse_transform(\n",
        "            filtered_data[['price_wna', 'rating']]\n",
        "        )\n",
        "\n",
        "    # Urutkan berdasarkan skor similarity (descending) dan ambil top-N\n",
        "    recommendations = filtered_data.nlargest(top_n, 'similarity') if not filtered_data.empty else pd.DataFrame()\n",
        "\n",
        "    # Pilih kolom untuk ditampilkan\n",
        "    return recommendations[['name', 'rating', 'price_wna', 'city', 'category', 'address', 'google_maps', 'similarity']]\n"
      ],
      "metadata": {
        "id": "ErMSJrJK_6I5"
      },
      "execution_count": null,
      "outputs": []
    },
    {
      "cell_type": "markdown",
      "source": [
        "## Penggunaan input rekomendasi berdasarkan wisata yang sebelumnya dikunjungi"
      ],
      "metadata": {
        "id": "oOrCcfQlPugs"
      }
    },
    {
      "cell_type": "code",
      "source": [
        "# input dari user\n",
        "wisata_name = input(\"Enter the name of destination you have already visited : \")\n",
        "city_filter = input(\"Enter the city you want to go to (optional): \") or None\n",
        "max_price = input(\"Enter the maximum ticket price (optional): \") or None\n",
        "\n",
        "# output\n",
        "top_5_recommendations = recommend_similar_wisata(wisata_name, city_filter=city_filter, max_price=max_price)\n",
        "print(top_5_recommendations)"
      ],
      "metadata": {
        "colab": {
          "base_uri": "https://localhost:8080/"
        },
        "id": "pqVusVFEA5CI",
        "outputId": "9c5e8d46-f496-4e30-9f3d-8353fca0b8dd"
      },
      "execution_count": null,
      "outputs": [
        {
          "output_type": "stream",
          "name": "stdout",
          "text": [
            "Enter the name of destination you have already visited : 5GX Bali\n",
            "Enter the city you want to go to (optional): \n",
            "Enter the maximum ticket price (optional): 30000\n",
            "                            name  rating  price_wna    city  \\\n",
            "16           Objek Wisata Sangeh     4.6    30000.0  Badung   \n",
            "271              Kutuh waterfall     4.6    30000.0  Badung   \n",
            "272           Nungnung Waterfall     4.7    20000.0  Badung   \n",
            "26           Pantai Double - Six     4.7        0.0  Badung   \n",
            "238  Jembong Waterfall, Ambengan     4.5    10000.0  Badung   \n",
            "\n",
            "               category       address  \\\n",
            "16   Tourist attraction  Jl. Brahmana   \n",
            "271  Tourist attraction      R8P9+9Q3   \n",
            "272  Tourist attraction           NaN   \n",
            "26   Tourist attraction           NaN   \n",
            "238  Tourist attraction           NaN   \n",
            "\n",
            "                                           google_maps  similarity  \n",
            "16   https://www.google.com/maps/place/Objek+Wisata...    0.999915  \n",
            "271  https://www.google.com/maps/place/Kutuh+waterf...    0.999915  \n",
            "272  https://www.google.com/maps/place/Nungnung+Wat...    0.999913  \n",
            "26   https://www.google.com/maps/place/Pantai+Doubl...    0.999508  \n",
            "238  https://www.google.com/maps/place/Jembong+Wate...    0.999439  \n"
          ]
        },
        {
          "output_type": "stream",
          "name": "stderr",
          "text": [
            "/usr/local/lib/python3.10/dist-packages/sklearn/base.py:493: UserWarning: X does not have valid feature names, but MinMaxScaler was fitted with feature names\n",
            "  warnings.warn(\n"
          ]
        }
      ]
    }
  ]
}